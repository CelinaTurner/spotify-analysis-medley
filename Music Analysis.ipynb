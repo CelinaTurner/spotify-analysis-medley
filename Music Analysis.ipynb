{
 "cells": [
  {
   "cell_type": "code",
   "execution_count": 26,
   "id": "3d54d64c",
   "metadata": {},
   "outputs": [
    {
     "data": {
      "text/plain": [
       "(586672, 20)"
      ]
     },
     "execution_count": 26,
     "metadata": {},
     "output_type": "execute_result"
    }
   ],
   "source": [
    "import numpy as np\n",
    "import pandas as pd\n",
    "import matplotlib.pyplot as plt\n",
    "import matplotlib.ticker as ticker\n",
    "from sklearn import datasets, linear_model\n",
    "from sklearn.decomposition import PCA\n",
    "from sklearn.preprocessing import MinMaxScaler\n",
    "from sklearn.manifold import TSNE\n",
    "from sklearn.cluster import KMeans\n",
    "from sklearn.metrics import silhouette_score\n",
    "import seaborn as sns\n",
    "import urllib.request\n",
    "import io\n",
    "import networkx as nx\n",
    "\n",
    "\n",
    "%matplotlib inline\n",
    "track_df = pd.read_csv(\"C://Users//CTurner//Downloads//SpotifyDatasets//tracks.csv\")\n",
    "track_df.shape\n",
    "\n",
    "\n",
    "\n",
    "\n"
   ]
  },
  {
   "cell_type": "code",
   "execution_count": 27,
   "id": "358b40a4",
   "metadata": {},
   "outputs": [
    {
     "name": "stdout",
     "output_type": "stream",
     "text": [
      "<class 'pandas.core.frame.DataFrame'>\n",
      "RangeIndex: 586672 entries, 0 to 586671\n",
      "Data columns (total 20 columns):\n",
      " #   Column            Non-Null Count   Dtype  \n",
      "---  ------            --------------   -----  \n",
      " 0   id                586672 non-null  object \n",
      " 1   name              586601 non-null  object \n",
      " 2   popularity        586672 non-null  int64  \n",
      " 3   duration_ms       586672 non-null  int64  \n",
      " 4   explicit          586672 non-null  int64  \n",
      " 5   artists           586672 non-null  object \n",
      " 6   id_artists        586672 non-null  object \n",
      " 7   release_date      586672 non-null  object \n",
      " 8   danceability      586672 non-null  float64\n",
      " 9   energy            586672 non-null  float64\n",
      " 10  key               586672 non-null  int64  \n",
      " 11  loudness          586672 non-null  float64\n",
      " 12  mode              586672 non-null  int64  \n",
      " 13  speechiness       586672 non-null  float64\n",
      " 14  acousticness      586672 non-null  float64\n",
      " 15  instrumentalness  586672 non-null  float64\n",
      " 16  liveness          586672 non-null  float64\n",
      " 17  valence           586672 non-null  float64\n",
      " 18  tempo             586672 non-null  float64\n",
      " 19  time_signature    586672 non-null  int64  \n",
      "dtypes: float64(9), int64(6), object(5)\n",
      "memory usage: 89.5+ MB\n"
     ]
    }
   ],
   "source": [
    "track_df.info()"
   ]
  },
  {
   "cell_type": "code",
   "execution_count": 28,
   "id": "f66fa857",
   "metadata": {},
   "outputs": [
    {
     "data": {
      "text/html": [
       "<div>\n",
       "<style scoped>\n",
       "    .dataframe tbody tr th:only-of-type {\n",
       "        vertical-align: middle;\n",
       "    }\n",
       "\n",
       "    .dataframe tbody tr th {\n",
       "        vertical-align: top;\n",
       "    }\n",
       "\n",
       "    .dataframe thead th {\n",
       "        text-align: right;\n",
       "    }\n",
       "</style>\n",
       "<table border=\"1\" class=\"dataframe\">\n",
       "  <thead>\n",
       "    <tr style=\"text-align: right;\">\n",
       "      <th></th>\n",
       "      <th>id</th>\n",
       "      <th>name</th>\n",
       "      <th>popularity</th>\n",
       "      <th>duration_ms</th>\n",
       "      <th>explicit</th>\n",
       "      <th>artists</th>\n",
       "      <th>id_artists</th>\n",
       "      <th>release_date</th>\n",
       "      <th>danceability</th>\n",
       "      <th>energy</th>\n",
       "      <th>key</th>\n",
       "      <th>loudness</th>\n",
       "      <th>mode</th>\n",
       "      <th>speechiness</th>\n",
       "      <th>acousticness</th>\n",
       "      <th>instrumentalness</th>\n",
       "      <th>liveness</th>\n",
       "      <th>valence</th>\n",
       "      <th>tempo</th>\n",
       "      <th>time_signature</th>\n",
       "    </tr>\n",
       "  </thead>\n",
       "  <tbody>\n",
       "    <tr>\n",
       "      <th>0</th>\n",
       "      <td>35iwgR4jXetI318WEWsa1Q</td>\n",
       "      <td>Carve</td>\n",
       "      <td>6</td>\n",
       "      <td>126903</td>\n",
       "      <td>0</td>\n",
       "      <td>['Uli']</td>\n",
       "      <td>['45tIt06XoI0Iio4LBEVpls']</td>\n",
       "      <td>1922-02-22</td>\n",
       "      <td>0.645</td>\n",
       "      <td>0.4450</td>\n",
       "      <td>0</td>\n",
       "      <td>-13.338</td>\n",
       "      <td>1</td>\n",
       "      <td>0.4510</td>\n",
       "      <td>0.674</td>\n",
       "      <td>0.7440</td>\n",
       "      <td>0.151</td>\n",
       "      <td>0.127</td>\n",
       "      <td>104.851</td>\n",
       "      <td>3</td>\n",
       "    </tr>\n",
       "    <tr>\n",
       "      <th>1</th>\n",
       "      <td>021ht4sdgPcrDgSk7JTbKY</td>\n",
       "      <td>Capítulo 2.16 - Banquero Anarquista</td>\n",
       "      <td>0</td>\n",
       "      <td>98200</td>\n",
       "      <td>0</td>\n",
       "      <td>['Fernando Pessoa']</td>\n",
       "      <td>['14jtPCOoNZwquk5wd9DxrY']</td>\n",
       "      <td>1922-06-01</td>\n",
       "      <td>0.695</td>\n",
       "      <td>0.2630</td>\n",
       "      <td>0</td>\n",
       "      <td>-22.136</td>\n",
       "      <td>1</td>\n",
       "      <td>0.9570</td>\n",
       "      <td>0.797</td>\n",
       "      <td>0.0000</td>\n",
       "      <td>0.148</td>\n",
       "      <td>0.655</td>\n",
       "      <td>102.009</td>\n",
       "      <td>1</td>\n",
       "    </tr>\n",
       "    <tr>\n",
       "      <th>2</th>\n",
       "      <td>07A5yehtSnoedViJAZkNnc</td>\n",
       "      <td>Vivo para Quererte - Remasterizado</td>\n",
       "      <td>0</td>\n",
       "      <td>181640</td>\n",
       "      <td>0</td>\n",
       "      <td>['Ignacio Corsini']</td>\n",
       "      <td>['5LiOoJbxVSAMkBS2fUm3X2']</td>\n",
       "      <td>1922-03-21</td>\n",
       "      <td>0.434</td>\n",
       "      <td>0.1770</td>\n",
       "      <td>1</td>\n",
       "      <td>-21.180</td>\n",
       "      <td>1</td>\n",
       "      <td>0.0512</td>\n",
       "      <td>0.994</td>\n",
       "      <td>0.0218</td>\n",
       "      <td>0.212</td>\n",
       "      <td>0.457</td>\n",
       "      <td>130.418</td>\n",
       "      <td>5</td>\n",
       "    </tr>\n",
       "    <tr>\n",
       "      <th>3</th>\n",
       "      <td>08FmqUhxtyLTn6pAh6bk45</td>\n",
       "      <td>El Prisionero - Remasterizado</td>\n",
       "      <td>0</td>\n",
       "      <td>176907</td>\n",
       "      <td>0</td>\n",
       "      <td>['Ignacio Corsini']</td>\n",
       "      <td>['5LiOoJbxVSAMkBS2fUm3X2']</td>\n",
       "      <td>1922-03-21</td>\n",
       "      <td>0.321</td>\n",
       "      <td>0.0946</td>\n",
       "      <td>7</td>\n",
       "      <td>-27.961</td>\n",
       "      <td>1</td>\n",
       "      <td>0.0504</td>\n",
       "      <td>0.995</td>\n",
       "      <td>0.9180</td>\n",
       "      <td>0.104</td>\n",
       "      <td>0.397</td>\n",
       "      <td>169.980</td>\n",
       "      <td>3</td>\n",
       "    </tr>\n",
       "    <tr>\n",
       "      <th>4</th>\n",
       "      <td>08y9GfoqCWfOGsKdwojr5e</td>\n",
       "      <td>Lady of the Evening</td>\n",
       "      <td>0</td>\n",
       "      <td>163080</td>\n",
       "      <td>0</td>\n",
       "      <td>['Dick Haymes']</td>\n",
       "      <td>['3BiJGZsyX9sJchTqcSA7Su']</td>\n",
       "      <td>1922</td>\n",
       "      <td>0.402</td>\n",
       "      <td>0.1580</td>\n",
       "      <td>3</td>\n",
       "      <td>-16.900</td>\n",
       "      <td>0</td>\n",
       "      <td>0.0390</td>\n",
       "      <td>0.989</td>\n",
       "      <td>0.1300</td>\n",
       "      <td>0.311</td>\n",
       "      <td>0.196</td>\n",
       "      <td>103.220</td>\n",
       "      <td>4</td>\n",
       "    </tr>\n",
       "  </tbody>\n",
       "</table>\n",
       "</div>"
      ],
      "text/plain": [
       "                       id                                 name  popularity  \\\n",
       "0  35iwgR4jXetI318WEWsa1Q                                Carve           6   \n",
       "1  021ht4sdgPcrDgSk7JTbKY  Capítulo 2.16 - Banquero Anarquista           0   \n",
       "2  07A5yehtSnoedViJAZkNnc   Vivo para Quererte - Remasterizado           0   \n",
       "3  08FmqUhxtyLTn6pAh6bk45        El Prisionero - Remasterizado           0   \n",
       "4  08y9GfoqCWfOGsKdwojr5e                  Lady of the Evening           0   \n",
       "\n",
       "   duration_ms  explicit              artists                  id_artists  \\\n",
       "0       126903         0              ['Uli']  ['45tIt06XoI0Iio4LBEVpls']   \n",
       "1        98200         0  ['Fernando Pessoa']  ['14jtPCOoNZwquk5wd9DxrY']   \n",
       "2       181640         0  ['Ignacio Corsini']  ['5LiOoJbxVSAMkBS2fUm3X2']   \n",
       "3       176907         0  ['Ignacio Corsini']  ['5LiOoJbxVSAMkBS2fUm3X2']   \n",
       "4       163080         0      ['Dick Haymes']  ['3BiJGZsyX9sJchTqcSA7Su']   \n",
       "\n",
       "  release_date  danceability  energy  key  loudness  mode  speechiness  \\\n",
       "0   1922-02-22         0.645  0.4450    0   -13.338     1       0.4510   \n",
       "1   1922-06-01         0.695  0.2630    0   -22.136     1       0.9570   \n",
       "2   1922-03-21         0.434  0.1770    1   -21.180     1       0.0512   \n",
       "3   1922-03-21         0.321  0.0946    7   -27.961     1       0.0504   \n",
       "4         1922         0.402  0.1580    3   -16.900     0       0.0390   \n",
       "\n",
       "   acousticness  instrumentalness  liveness  valence    tempo  time_signature  \n",
       "0         0.674            0.7440     0.151    0.127  104.851               3  \n",
       "1         0.797            0.0000     0.148    0.655  102.009               1  \n",
       "2         0.994            0.0218     0.212    0.457  130.418               5  \n",
       "3         0.995            0.9180     0.104    0.397  169.980               3  \n",
       "4         0.989            0.1300     0.311    0.196  103.220               4  "
      ]
     },
     "execution_count": 28,
     "metadata": {},
     "output_type": "execute_result"
    }
   ],
   "source": [
    "track_df.head()"
   ]
  },
  {
   "cell_type": "code",
   "execution_count": 29,
   "id": "b1e62dbe",
   "metadata": {},
   "outputs": [
    {
     "data": {
      "text/plain": [
       "id                   0\n",
       "name                71\n",
       "popularity           0\n",
       "duration_ms          0\n",
       "explicit             0\n",
       "artists              0\n",
       "id_artists           0\n",
       "release_date         0\n",
       "danceability         0\n",
       "energy               0\n",
       "key                  0\n",
       "loudness             0\n",
       "mode                 0\n",
       "speechiness          0\n",
       "acousticness         0\n",
       "instrumentalness     0\n",
       "liveness             0\n",
       "valence              0\n",
       "tempo                0\n",
       "time_signature       0\n",
       "dtype: int64"
      ]
     },
     "execution_count": 29,
     "metadata": {},
     "output_type": "execute_result"
    }
   ],
   "source": [
    "track_df.isnull().sum()"
   ]
  },
  {
   "cell_type": "code",
   "execution_count": 30,
   "id": "c6f6b316",
   "metadata": {},
   "outputs": [],
   "source": [
    "track_df = track_df.dropna()"
   ]
  },
  {
   "cell_type": "code",
   "execution_count": 31,
   "id": "226a5209",
   "metadata": {},
   "outputs": [
    {
     "data": {
      "text/plain": [
       "id                  0\n",
       "name                0\n",
       "popularity          0\n",
       "duration_ms         0\n",
       "explicit            0\n",
       "artists             0\n",
       "id_artists          0\n",
       "release_date        0\n",
       "danceability        0\n",
       "energy              0\n",
       "key                 0\n",
       "loudness            0\n",
       "mode                0\n",
       "speechiness         0\n",
       "acousticness        0\n",
       "instrumentalness    0\n",
       "liveness            0\n",
       "valence             0\n",
       "tempo               0\n",
       "time_signature      0\n",
       "dtype: int64"
      ]
     },
     "execution_count": 31,
     "metadata": {},
     "output_type": "execute_result"
    }
   ],
   "source": [
    "track_df.isnull().sum()"
   ]
  },
  {
   "cell_type": "code",
   "execution_count": 32,
   "id": "86bd8d0c",
   "metadata": {},
   "outputs": [
    {
     "name": "stdout",
     "output_type": "stream",
     "text": [
      "<class 'pandas.core.frame.DataFrame'>\n",
      "Int64Index: 586601 entries, 0 to 586671\n",
      "Data columns (total 5 columns):\n",
      " #   Column        Non-Null Count   Dtype \n",
      "---  ------        --------------   ----- \n",
      " 0   id            586601 non-null  object\n",
      " 1   name          586601 non-null  object\n",
      " 2   artists       586601 non-null  object\n",
      " 3   id_artists    586601 non-null  object\n",
      " 4   release_date  586601 non-null  object\n",
      "dtypes: object(5)\n",
      "memory usage: 26.9+ MB\n"
     ]
    }
   ],
   "source": [
    "#categories\n",
    "track_cat = track_df.select_dtypes(include = 'object')\n",
    "track_cat.info()"
   ]
  },
  {
   "cell_type": "code",
   "execution_count": 33,
   "id": "c1fc2e59",
   "metadata": {},
   "outputs": [
    {
     "name": "stdout",
     "output_type": "stream",
     "text": [
      "id: 586601\n",
      "/n\n",
      "name: 446474\n",
      "/n\n",
      "artists: 114029\n",
      "/n\n",
      "id_artists: 115062\n",
      "/n\n",
      "release_date: 19698\n",
      "/n\n"
     ]
    }
   ],
   "source": [
    "#cardinality\n",
    "for col in track_cat.columns:\n",
    "    print(f'{col}: {track_cat[col].nunique()}')\n",
    "    print('/n')"
   ]
  },
  {
   "cell_type": "code",
   "execution_count": 34,
   "id": "633b0f75",
   "metadata": {},
   "outputs": [
    {
     "data": {
      "text/plain": [
       "Text(0.5, 1.0, 'Cardinality')"
      ]
     },
     "execution_count": 34,
     "metadata": {},
     "output_type": "execute_result"
    },
    {
     "data": {
      "image/png": "[encoded data removed]",
      "text/plain": [
       "<Figure size 1200x600 with 1 Axes>"
      ]
     },
     "metadata": {},
     "output_type": "display_data"
    }
   ],
   "source": [
    "#plot cardinality\n",
    "track_cat.nunique().plot.bar(figsize=(12,6))\n",
    "plt.ylabel('Number of Unique Categories')\n",
    "plt.xlabel('Variables')\n",
    "plt.title('Cardinality')"
   ]
  },
  {
   "cell_type": "code",
   "execution_count": 35,
   "id": "50c7c5b0",
   "metadata": {},
   "outputs": [
    {
     "data": {
      "text/plain": [
       "['Die drei ???']                              3856\n",
       "['TKKG Retro-Archiv']                         2006\n",
       "['Benjamin Blümchen']                         1503\n",
       "['Bibi Blocksberg']                           1472\n",
       "['Lata Mangeshkar']                           1373\n",
       "['Bibi und Tina']                              927\n",
       "['Tintin', 'Tomas Bolme', 'Bert-Åke Varg']     905\n",
       "['Francisco Canaro']                           891\n",
       "['Ella Fitzgerald']                            870\n",
       "['Tadeusz Dolega Mostowicz']                   838\n",
       "['Fünf Freunde']                               812\n",
       "['Mohammed Rafi']                              787\n",
       "['Queen']                                      777\n",
       "['Elvis Presley']                              680\n",
       "['Frank Sinatra']                              680\n",
       "['The Rolling Stones']                         654\n",
       "['Die Originale']                              638\n",
       "['Billie Holiday']                             609\n",
       "['Julio Iglesias']                             595\n",
       "['Globi']                                      584\n",
       "Name: artists, dtype: int64"
      ]
     },
     "execution_count": 35,
     "metadata": {},
     "output_type": "execute_result"
    }
   ],
   "source": [
    "#find artists with most songs\n",
    "prolific_artists = track_df['artists'].value_counts().head(20)\n",
    "prolific_artists"
   ]
  },
  {
   "cell_type": "code",
   "execution_count": 36,
   "id": "76bdafac",
   "metadata": {},
   "outputs": [
    {
     "data": {
      "image/png": "[encoded data removed]",
      "text/plain": [
       "<Figure size 1200x1000 with 1 Axes>"
      ]
     },
     "metadata": {},
     "output_type": "display_data"
    }
   ],
   "source": [
    "#barplot artists by sum of songs\n",
    "fig, ax = plt.subplots(figsize = (12,10))\n",
    "ax = sns.barplot(x = prolific_artists.values, y = prolific_artists.index, palette = 'rocket_r', orient = 'h', edgecolor = 'black', ax = ax)\n",
    "ax.set_xlabel('Sum of Songs', c = 'r', fontsize = 12, weight = 'bold')\n",
    "ax.set_ylabel('Artists',c = 'r', fontsize = 12, weight = 'bold')\n",
    "ax.set_title('20 Most Prolific Artists on Spotify', c= 'r', fontsize = 14, weight = 'bold')\n",
    "plt.show()"
   ]
  },
  {
   "cell_type": "code",
   "execution_count": 37,
   "id": "78f065ff",
   "metadata": {},
   "outputs": [
    {
     "name": "stdout",
     "output_type": "stream",
     "text": [
      "<class 'pandas.core.frame.DataFrame'>\n",
      "Int64Index: 586601 entries, 0 to 586671\n",
      "Data columns (total 20 columns):\n",
      " #   Column            Non-Null Count   Dtype  \n",
      "---  ------            --------------   -----  \n",
      " 0   id                586601 non-null  object \n",
      " 1   name              586601 non-null  object \n",
      " 2   popularity        586601 non-null  int64  \n",
      " 3   duration_ms       586601 non-null  int64  \n",
      " 4   explicit          586601 non-null  int64  \n",
      " 5   artists           586601 non-null  object \n",
      " 6   id_artists        586601 non-null  object \n",
      " 7   release_date      586601 non-null  object \n",
      " 8   danceability      586601 non-null  float64\n",
      " 9   energy            586601 non-null  float64\n",
      " 10  key               586601 non-null  int64  \n",
      " 11  loudness          586601 non-null  float64\n",
      " 12  mode              586601 non-null  int64  \n",
      " 13  speechiness       586601 non-null  float64\n",
      " 14  acousticness      586601 non-null  float64\n",
      " 15  instrumentalness  586601 non-null  float64\n",
      " 16  liveness          586601 non-null  float64\n",
      " 17  valence           586601 non-null  float64\n",
      " 18  tempo             586601 non-null  float64\n",
      " 19  time_signature    586601 non-null  int64  \n",
      "dtypes: float64(9), int64(6), object(5)\n",
      "memory usage: 94.0+ MB\n"
     ]
    }
   ],
   "source": [
    "track_df.info()"
   ]
  },
  {
   "cell_type": "code",
   "execution_count": 38,
   "id": "f82f1539",
   "metadata": {},
   "outputs": [],
   "source": [
    "track_df = track_df.sort_values('popularity', ascending = False)"
   ]
  },
  {
   "cell_type": "code",
   "execution_count": 39,
   "id": "296b7287",
   "metadata": {},
   "outputs": [
    {
     "data": {
      "text/html": [
       "<div>\n",
       "<style scoped>\n",
       "    .dataframe tbody tr th:only-of-type {\n",
       "        vertical-align: middle;\n",
       "    }\n",
       "\n",
       "    .dataframe tbody tr th {\n",
       "        vertical-align: top;\n",
       "    }\n",
       "\n",
       "    .dataframe thead th {\n",
       "        text-align: right;\n",
       "    }\n",
       "</style>\n",
       "<table border=\"1\" class=\"dataframe\">\n",
       "  <thead>\n",
       "    <tr style=\"text-align: right;\">\n",
       "      <th></th>\n",
       "      <th>id</th>\n",
       "      <th>name</th>\n",
       "      <th>popularity</th>\n",
       "      <th>duration_ms</th>\n",
       "      <th>explicit</th>\n",
       "      <th>artists</th>\n",
       "      <th>id_artists</th>\n",
       "      <th>release_date</th>\n",
       "      <th>danceability</th>\n",
       "      <th>energy</th>\n",
       "      <th>key</th>\n",
       "      <th>loudness</th>\n",
       "      <th>mode</th>\n",
       "      <th>speechiness</th>\n",
       "      <th>acousticness</th>\n",
       "      <th>instrumentalness</th>\n",
       "      <th>liveness</th>\n",
       "      <th>valence</th>\n",
       "      <th>tempo</th>\n",
       "      <th>time_signature</th>\n",
       "    </tr>\n",
       "  </thead>\n",
       "  <tbody>\n",
       "    <tr>\n",
       "      <th>93802</th>\n",
       "      <td>4iJyoBOLtHqaGxP12qzhQI</td>\n",
       "      <td>Peaches (feat. Daniel Caesar &amp; Giveon)</td>\n",
       "      <td>100</td>\n",
       "      <td>198082</td>\n",
       "      <td>1</td>\n",
       "      <td>['Justin Bieber', 'Daniel Caesar', 'Giveon']</td>\n",
       "      <td>['1uNFoZAHBGtllmzznpCI3s', '20wkVLutqVOYrc0kxF...</td>\n",
       "      <td>2021-03-19</td>\n",
       "      <td>0.677</td>\n",
       "      <td>0.696</td>\n",
       "      <td>0</td>\n",
       "      <td>-6.181</td>\n",
       "      <td>1</td>\n",
       "      <td>0.1190</td>\n",
       "      <td>0.32100</td>\n",
       "      <td>0.000000</td>\n",
       "      <td>0.4200</td>\n",
       "      <td>0.464</td>\n",
       "      <td>90.030</td>\n",
       "      <td>4</td>\n",
       "    </tr>\n",
       "    <tr>\n",
       "      <th>93803</th>\n",
       "      <td>7lPN2DXiMsVn7XUKtOW1CS</td>\n",
       "      <td>drivers license</td>\n",
       "      <td>99</td>\n",
       "      <td>242014</td>\n",
       "      <td>1</td>\n",
       "      <td>['Olivia Rodrigo']</td>\n",
       "      <td>['1McMsnEElThX1knmY4oliG']</td>\n",
       "      <td>2021-01-08</td>\n",
       "      <td>0.585</td>\n",
       "      <td>0.436</td>\n",
       "      <td>10</td>\n",
       "      <td>-8.761</td>\n",
       "      <td>1</td>\n",
       "      <td>0.0601</td>\n",
       "      <td>0.72100</td>\n",
       "      <td>0.000013</td>\n",
       "      <td>0.1050</td>\n",
       "      <td>0.132</td>\n",
       "      <td>143.874</td>\n",
       "      <td>4</td>\n",
       "    </tr>\n",
       "    <tr>\n",
       "      <th>93804</th>\n",
       "      <td>3Ofmpyhv5UAQ70mENzB277</td>\n",
       "      <td>Astronaut In The Ocean</td>\n",
       "      <td>98</td>\n",
       "      <td>132780</td>\n",
       "      <td>0</td>\n",
       "      <td>['Masked Wolf']</td>\n",
       "      <td>['1uU7g3DNSbsu0QjSEqZtEd']</td>\n",
       "      <td>2021-01-06</td>\n",
       "      <td>0.778</td>\n",
       "      <td>0.695</td>\n",
       "      <td>4</td>\n",
       "      <td>-6.865</td>\n",
       "      <td>0</td>\n",
       "      <td>0.0913</td>\n",
       "      <td>0.17500</td>\n",
       "      <td>0.000000</td>\n",
       "      <td>0.1500</td>\n",
       "      <td>0.472</td>\n",
       "      <td>149.996</td>\n",
       "      <td>4</td>\n",
       "    </tr>\n",
       "    <tr>\n",
       "      <th>92811</th>\n",
       "      <td>6tDDoYIxWvMLTdKpjFkc1B</td>\n",
       "      <td>telepatía</td>\n",
       "      <td>97</td>\n",
       "      <td>160191</td>\n",
       "      <td>0</td>\n",
       "      <td>['Kali Uchis']</td>\n",
       "      <td>['1U1el3k54VvEUzo3ybLPlM']</td>\n",
       "      <td>2020-12-04</td>\n",
       "      <td>0.653</td>\n",
       "      <td>0.524</td>\n",
       "      <td>11</td>\n",
       "      <td>-9.016</td>\n",
       "      <td>0</td>\n",
       "      <td>0.0502</td>\n",
       "      <td>0.11200</td>\n",
       "      <td>0.000000</td>\n",
       "      <td>0.2030</td>\n",
       "      <td>0.553</td>\n",
       "      <td>83.970</td>\n",
       "      <td>4</td>\n",
       "    </tr>\n",
       "    <tr>\n",
       "      <th>92810</th>\n",
       "      <td>5QO79kh1waicV47BqGRL3g</td>\n",
       "      <td>Save Your Tears</td>\n",
       "      <td>97</td>\n",
       "      <td>215627</td>\n",
       "      <td>1</td>\n",
       "      <td>['The Weeknd']</td>\n",
       "      <td>['1Xyo4u8uXC1ZmMpatF05PJ']</td>\n",
       "      <td>2020-03-20</td>\n",
       "      <td>0.680</td>\n",
       "      <td>0.826</td>\n",
       "      <td>0</td>\n",
       "      <td>-5.487</td>\n",
       "      <td>1</td>\n",
       "      <td>0.0309</td>\n",
       "      <td>0.02120</td>\n",
       "      <td>0.000012</td>\n",
       "      <td>0.5430</td>\n",
       "      <td>0.644</td>\n",
       "      <td>118.051</td>\n",
       "      <td>4</td>\n",
       "    </tr>\n",
       "    <tr>\n",
       "      <th>93805</th>\n",
       "      <td>7MAibcTli4IisCtbHKrGMh</td>\n",
       "      <td>Leave The Door Open</td>\n",
       "      <td>96</td>\n",
       "      <td>242096</td>\n",
       "      <td>0</td>\n",
       "      <td>['Bruno Mars', 'Anderson .Paak', 'Silk Sonic']</td>\n",
       "      <td>['0du5cEVh5yTK9QJze8zA0C', '3jK9MiCrA42lLAdMGU...</td>\n",
       "      <td>2021-03-05</td>\n",
       "      <td>0.586</td>\n",
       "      <td>0.616</td>\n",
       "      <td>5</td>\n",
       "      <td>-7.964</td>\n",
       "      <td>1</td>\n",
       "      <td>0.0324</td>\n",
       "      <td>0.18200</td>\n",
       "      <td>0.000000</td>\n",
       "      <td>0.0927</td>\n",
       "      <td>0.719</td>\n",
       "      <td>148.088</td>\n",
       "      <td>4</td>\n",
       "    </tr>\n",
       "    <tr>\n",
       "      <th>92813</th>\n",
       "      <td>0VjIjW4GlUZAMYd2vXMi3b</td>\n",
       "      <td>Blinding Lights</td>\n",
       "      <td>96</td>\n",
       "      <td>200040</td>\n",
       "      <td>0</td>\n",
       "      <td>['The Weeknd']</td>\n",
       "      <td>['1Xyo4u8uXC1ZmMpatF05PJ']</td>\n",
       "      <td>2020-03-20</td>\n",
       "      <td>0.514</td>\n",
       "      <td>0.730</td>\n",
       "      <td>1</td>\n",
       "      <td>-5.934</td>\n",
       "      <td>1</td>\n",
       "      <td>0.0598</td>\n",
       "      <td>0.00146</td>\n",
       "      <td>0.000095</td>\n",
       "      <td>0.0897</td>\n",
       "      <td>0.334</td>\n",
       "      <td>171.005</td>\n",
       "      <td>4</td>\n",
       "    </tr>\n",
       "    <tr>\n",
       "      <th>92814</th>\n",
       "      <td>6f3Slt0GbA2bPZlz0aIFXN</td>\n",
       "      <td>The Business</td>\n",
       "      <td>95</td>\n",
       "      <td>164000</td>\n",
       "      <td>0</td>\n",
       "      <td>['Tiësto']</td>\n",
       "      <td>['2o5jDhtHVPhrJdv3cEQ99Z']</td>\n",
       "      <td>2020-09-16</td>\n",
       "      <td>0.798</td>\n",
       "      <td>0.620</td>\n",
       "      <td>8</td>\n",
       "      <td>-7.079</td>\n",
       "      <td>0</td>\n",
       "      <td>0.2320</td>\n",
       "      <td>0.41400</td>\n",
       "      <td>0.019200</td>\n",
       "      <td>0.1120</td>\n",
       "      <td>0.235</td>\n",
       "      <td>120.031</td>\n",
       "      <td>4</td>\n",
       "    </tr>\n",
       "    <tr>\n",
       "      <th>93806</th>\n",
       "      <td>7Bk0uXKk1uPT0XuQbpFzvs</td>\n",
       "      <td>Fiel</td>\n",
       "      <td>94</td>\n",
       "      <td>261667</td>\n",
       "      <td>0</td>\n",
       "      <td>['Los Legendarios', 'Wisin', 'Jhay Cortez']</td>\n",
       "      <td>['0n6sKrG0xKAf8xmdqeNGke', '3E6xrwgnVfYCrCs0eP...</td>\n",
       "      <td>2021-02-04</td>\n",
       "      <td>0.849</td>\n",
       "      <td>0.701</td>\n",
       "      <td>6</td>\n",
       "      <td>-4.407</td>\n",
       "      <td>0</td>\n",
       "      <td>0.0600</td>\n",
       "      <td>0.40700</td>\n",
       "      <td>0.000000</td>\n",
       "      <td>0.1120</td>\n",
       "      <td>0.505</td>\n",
       "      <td>98.005</td>\n",
       "      <td>4</td>\n",
       "    </tr>\n",
       "    <tr>\n",
       "      <th>92819</th>\n",
       "      <td>1xK1Gg9SxG8fy2Ya373oqb</td>\n",
       "      <td>Bandido</td>\n",
       "      <td>94</td>\n",
       "      <td>232853</td>\n",
       "      <td>0</td>\n",
       "      <td>['Myke Towers', 'Juhn']</td>\n",
       "      <td>['7iK8PXO48WeuP03g8YR51W', '2LmcxBak1alK1bf7d1...</td>\n",
       "      <td>2020-12-10</td>\n",
       "      <td>0.713</td>\n",
       "      <td>0.617</td>\n",
       "      <td>8</td>\n",
       "      <td>-4.637</td>\n",
       "      <td>1</td>\n",
       "      <td>0.0887</td>\n",
       "      <td>0.12200</td>\n",
       "      <td>0.000000</td>\n",
       "      <td>0.0962</td>\n",
       "      <td>0.682</td>\n",
       "      <td>168.021</td>\n",
       "      <td>4</td>\n",
       "    </tr>\n",
       "    <tr>\n",
       "      <th>93807</th>\n",
       "      <td>4cG7HUWYHBV6R6tHn1gxrl</td>\n",
       "      <td>Friday (feat. Mufasa &amp; Hypeman) - Dopamine Re-...</td>\n",
       "      <td>94</td>\n",
       "      <td>169153</td>\n",
       "      <td>0</td>\n",
       "      <td>['Riton', 'Nightcrawlers', 'Mufasa &amp; Hypeman',...</td>\n",
       "      <td>['7i9j813KFoSBMldGqlh2Z1', '1gALaWbNDnwS2ECV09...</td>\n",
       "      <td>2021-01-15</td>\n",
       "      <td>0.824</td>\n",
       "      <td>0.862</td>\n",
       "      <td>2</td>\n",
       "      <td>-3.424</td>\n",
       "      <td>1</td>\n",
       "      <td>0.1260</td>\n",
       "      <td>0.00760</td>\n",
       "      <td>0.000132</td>\n",
       "      <td>0.3030</td>\n",
       "      <td>0.801</td>\n",
       "      <td>122.980</td>\n",
       "      <td>4</td>\n",
       "    </tr>\n",
       "    <tr>\n",
       "      <th>92817</th>\n",
       "      <td>27OeeYzk6klgBh83TSvGMA</td>\n",
       "      <td>WITHOUT YOU</td>\n",
       "      <td>94</td>\n",
       "      <td>161385</td>\n",
       "      <td>1</td>\n",
       "      <td>['The Kid LAROI']</td>\n",
       "      <td>['2tIP7SsRs7vjIcLrU85W8J']</td>\n",
       "      <td>2020-11-06</td>\n",
       "      <td>0.662</td>\n",
       "      <td>0.413</td>\n",
       "      <td>0</td>\n",
       "      <td>-7.357</td>\n",
       "      <td>1</td>\n",
       "      <td>0.0299</td>\n",
       "      <td>0.21300</td>\n",
       "      <td>0.000000</td>\n",
       "      <td>0.1340</td>\n",
       "      <td>0.467</td>\n",
       "      <td>93.005</td>\n",
       "      <td>4</td>\n",
       "    </tr>\n",
       "    <tr>\n",
       "      <th>91866</th>\n",
       "      <td>60ynsPSSKe6O3sfwRnIBRf</td>\n",
       "      <td>Streets</td>\n",
       "      <td>94</td>\n",
       "      <td>226987</td>\n",
       "      <td>1</td>\n",
       "      <td>['Doja Cat']</td>\n",
       "      <td>['5cj0lLjcoR7YOSnhnX0Po5']</td>\n",
       "      <td>2019-11-07</td>\n",
       "      <td>0.749</td>\n",
       "      <td>0.463</td>\n",
       "      <td>11</td>\n",
       "      <td>-8.433</td>\n",
       "      <td>1</td>\n",
       "      <td>0.0828</td>\n",
       "      <td>0.20800</td>\n",
       "      <td>0.037100</td>\n",
       "      <td>0.3370</td>\n",
       "      <td>0.190</td>\n",
       "      <td>90.028</td>\n",
       "      <td>4</td>\n",
       "    </tr>\n",
       "    <tr>\n",
       "      <th>92816</th>\n",
       "      <td>3FAJ6O0NOHQV8Mc5Ri6ENp</td>\n",
       "      <td>Heartbreak Anniversary</td>\n",
       "      <td>94</td>\n",
       "      <td>198371</td>\n",
       "      <td>0</td>\n",
       "      <td>['Giveon']</td>\n",
       "      <td>['4fxd5Ee7UefO4CUXgwJ7IP']</td>\n",
       "      <td>2020-03-27</td>\n",
       "      <td>0.449</td>\n",
       "      <td>0.465</td>\n",
       "      <td>0</td>\n",
       "      <td>-8.964</td>\n",
       "      <td>1</td>\n",
       "      <td>0.0791</td>\n",
       "      <td>0.52400</td>\n",
       "      <td>0.000001</td>\n",
       "      <td>0.3030</td>\n",
       "      <td>0.543</td>\n",
       "      <td>89.087</td>\n",
       "      <td>3</td>\n",
       "    </tr>\n",
       "    <tr>\n",
       "      <th>92821</th>\n",
       "      <td>2XIc1pqjXV3Cr2BQUGNBck</td>\n",
       "      <td>LA NOCHE DE ANOCHE</td>\n",
       "      <td>93</td>\n",
       "      <td>203201</td>\n",
       "      <td>0</td>\n",
       "      <td>['Bad Bunny', 'ROSALÍA']</td>\n",
       "      <td>['4q3ewBCX7sLwd24euuV69X', '7ltDVBr6mKbRvohxhe...</td>\n",
       "      <td>2020-11-27</td>\n",
       "      <td>0.856</td>\n",
       "      <td>0.618</td>\n",
       "      <td>7</td>\n",
       "      <td>-4.892</td>\n",
       "      <td>1</td>\n",
       "      <td>0.2860</td>\n",
       "      <td>0.03030</td>\n",
       "      <td>0.000000</td>\n",
       "      <td>0.0866</td>\n",
       "      <td>0.391</td>\n",
       "      <td>81.993</td>\n",
       "      <td>4</td>\n",
       "    </tr>\n",
       "    <tr>\n",
       "      <th>92823</th>\n",
       "      <td>3YJJjQPAbDT7mGpX3WtQ9A</td>\n",
       "      <td>Good Days</td>\n",
       "      <td>93</td>\n",
       "      <td>279204</td>\n",
       "      <td>1</td>\n",
       "      <td>['SZA']</td>\n",
       "      <td>['7tYKF4w9nC0nq9CsPZTHyP']</td>\n",
       "      <td>2020-12-25</td>\n",
       "      <td>0.436</td>\n",
       "      <td>0.655</td>\n",
       "      <td>1</td>\n",
       "      <td>-8.370</td>\n",
       "      <td>0</td>\n",
       "      <td>0.0583</td>\n",
       "      <td>0.49900</td>\n",
       "      <td>0.000008</td>\n",
       "      <td>0.6880</td>\n",
       "      <td>0.412</td>\n",
       "      <td>121.002</td>\n",
       "      <td>4</td>\n",
       "    </tr>\n",
       "    <tr>\n",
       "      <th>92829</th>\n",
       "      <td>6ft4hAq6yde8jPZY2i5zLr</td>\n",
       "      <td>Paradise (feat. Dermot Kennedy)</td>\n",
       "      <td>92</td>\n",
       "      <td>167903</td>\n",
       "      <td>0</td>\n",
       "      <td>['MEDUZA', 'Dermot Kennedy']</td>\n",
       "      <td>['0xRXCcSX89eobfrshSVdyu', '5KNNVgR6LBIABRIomy...</td>\n",
       "      <td>2020-10-30</td>\n",
       "      <td>0.632</td>\n",
       "      <td>0.595</td>\n",
       "      <td>8</td>\n",
       "      <td>-7.644</td>\n",
       "      <td>0</td>\n",
       "      <td>0.0401</td>\n",
       "      <td>0.06890</td>\n",
       "      <td>0.000000</td>\n",
       "      <td>0.2090</td>\n",
       "      <td>0.435</td>\n",
       "      <td>124.114</td>\n",
       "      <td>4</td>\n",
       "    </tr>\n",
       "    <tr>\n",
       "      <th>92824</th>\n",
       "      <td>47EiUVwUp4C9fGccaPuUCS</td>\n",
       "      <td>DÁKITI</td>\n",
       "      <td>92</td>\n",
       "      <td>205090</td>\n",
       "      <td>1</td>\n",
       "      <td>['Bad Bunny', 'Jhay Cortez']</td>\n",
       "      <td>['4q3ewBCX7sLwd24euuV69X', '0EFisYRi20PTADoJri...</td>\n",
       "      <td>2020-10-30</td>\n",
       "      <td>0.731</td>\n",
       "      <td>0.573</td>\n",
       "      <td>4</td>\n",
       "      <td>-10.059</td>\n",
       "      <td>0</td>\n",
       "      <td>0.0544</td>\n",
       "      <td>0.40100</td>\n",
       "      <td>0.000052</td>\n",
       "      <td>0.1130</td>\n",
       "      <td>0.145</td>\n",
       "      <td>109.928</td>\n",
       "      <td>4</td>\n",
       "    </tr>\n",
       "    <tr>\n",
       "      <th>91867</th>\n",
       "      <td>6UelLqGlWMcVH1E5c4H7lY</td>\n",
       "      <td>Watermelon Sugar</td>\n",
       "      <td>92</td>\n",
       "      <td>174000</td>\n",
       "      <td>0</td>\n",
       "      <td>['Harry Styles']</td>\n",
       "      <td>['6KImCVD70vtIoJWnq6nGn3']</td>\n",
       "      <td>2019-12-13</td>\n",
       "      <td>0.548</td>\n",
       "      <td>0.816</td>\n",
       "      <td>0</td>\n",
       "      <td>-4.209</td>\n",
       "      <td>1</td>\n",
       "      <td>0.0465</td>\n",
       "      <td>0.12200</td>\n",
       "      <td>0.000000</td>\n",
       "      <td>0.3350</td>\n",
       "      <td>0.557</td>\n",
       "      <td>95.390</td>\n",
       "      <td>4</td>\n",
       "    </tr>\n",
       "    <tr>\n",
       "      <th>92826</th>\n",
       "      <td>35mvY5S1H3J2QZyna3TFe0</td>\n",
       "      <td>positions</td>\n",
       "      <td>92</td>\n",
       "      <td>172325</td>\n",
       "      <td>1</td>\n",
       "      <td>['Ariana Grande']</td>\n",
       "      <td>['66CXWjxzNUsdJxJ2JdwvnR']</td>\n",
       "      <td>2020-10-30</td>\n",
       "      <td>0.737</td>\n",
       "      <td>0.802</td>\n",
       "      <td>0</td>\n",
       "      <td>-4.771</td>\n",
       "      <td>1</td>\n",
       "      <td>0.0878</td>\n",
       "      <td>0.46800</td>\n",
       "      <td>0.000000</td>\n",
       "      <td>0.0931</td>\n",
       "      <td>0.682</td>\n",
       "      <td>144.015</td>\n",
       "      <td>4</td>\n",
       "    </tr>\n",
       "  </tbody>\n",
       "</table>\n",
       "</div>"
      ],
      "text/plain": [
       "                           id  \\\n",
       "93802  4iJyoBOLtHqaGxP12qzhQI   \n",
       "93803  7lPN2DXiMsVn7XUKtOW1CS   \n",
       "93804  3Ofmpyhv5UAQ70mENzB277   \n",
       "92811  6tDDoYIxWvMLTdKpjFkc1B   \n",
       "92810  5QO79kh1waicV47BqGRL3g   \n",
       "93805  7MAibcTli4IisCtbHKrGMh   \n",
       "92813  0VjIjW4GlUZAMYd2vXMi3b   \n",
       "92814  6f3Slt0GbA2bPZlz0aIFXN   \n",
       "93806  7Bk0uXKk1uPT0XuQbpFzvs   \n",
       "92819  1xK1Gg9SxG8fy2Ya373oqb   \n",
       "93807  4cG7HUWYHBV6R6tHn1gxrl   \n",
       "92817  27OeeYzk6klgBh83TSvGMA   \n",
       "91866  60ynsPSSKe6O3sfwRnIBRf   \n",
       "92816  3FAJ6O0NOHQV8Mc5Ri6ENp   \n",
       "92821  2XIc1pqjXV3Cr2BQUGNBck   \n",
       "92823  3YJJjQPAbDT7mGpX3WtQ9A   \n",
       "92829  6ft4hAq6yde8jPZY2i5zLr   \n",
       "92824  47EiUVwUp4C9fGccaPuUCS   \n",
       "91867  6UelLqGlWMcVH1E5c4H7lY   \n",
       "92826  35mvY5S1H3J2QZyna3TFe0   \n",
       "\n",
       "                                                    name  popularity  \\\n",
       "93802             Peaches (feat. Daniel Caesar & Giveon)         100   \n",
       "93803                                    drivers license          99   \n",
       "93804                             Astronaut In The Ocean          98   \n",
       "92811                                          telepatía          97   \n",
       "92810                                    Save Your Tears          97   \n",
       "93805                                Leave The Door Open          96   \n",
       "92813                                    Blinding Lights          96   \n",
       "92814                                       The Business          95   \n",
       "93806                                               Fiel          94   \n",
       "92819                                            Bandido          94   \n",
       "93807  Friday (feat. Mufasa & Hypeman) - Dopamine Re-...          94   \n",
       "92817                                        WITHOUT YOU          94   \n",
       "91866                                            Streets          94   \n",
       "92816                             Heartbreak Anniversary          94   \n",
       "92821                                 LA NOCHE DE ANOCHE          93   \n",
       "92823                                          Good Days          93   \n",
       "92829                    Paradise (feat. Dermot Kennedy)          92   \n",
       "92824                                             DÁKITI          92   \n",
       "91867                                   Watermelon Sugar          92   \n",
       "92826                                          positions          92   \n",
       "\n",
       "       duration_ms  explicit  \\\n",
       "93802       198082         1   \n",
       "93803       242014         1   \n",
       "93804       132780         0   \n",
       "92811       160191         0   \n",
       "92810       215627         1   \n",
       "93805       242096         0   \n",
       "92813       200040         0   \n",
       "92814       164000         0   \n",
       "93806       261667         0   \n",
       "92819       232853         0   \n",
       "93807       169153         0   \n",
       "92817       161385         1   \n",
       "91866       226987         1   \n",
       "92816       198371         0   \n",
       "92821       203201         0   \n",
       "92823       279204         1   \n",
       "92829       167903         0   \n",
       "92824       205090         1   \n",
       "91867       174000         0   \n",
       "92826       172325         1   \n",
       "\n",
       "                                                 artists  \\\n",
       "93802       ['Justin Bieber', 'Daniel Caesar', 'Giveon']   \n",
       "93803                                 ['Olivia Rodrigo']   \n",
       "93804                                    ['Masked Wolf']   \n",
       "92811                                     ['Kali Uchis']   \n",
       "92810                                     ['The Weeknd']   \n",
       "93805     ['Bruno Mars', 'Anderson .Paak', 'Silk Sonic']   \n",
       "92813                                     ['The Weeknd']   \n",
       "92814                                         ['Tiësto']   \n",
       "93806        ['Los Legendarios', 'Wisin', 'Jhay Cortez']   \n",
       "92819                            ['Myke Towers', 'Juhn']   \n",
       "93807  ['Riton', 'Nightcrawlers', 'Mufasa & Hypeman',...   \n",
       "92817                                  ['The Kid LAROI']   \n",
       "91866                                       ['Doja Cat']   \n",
       "92816                                         ['Giveon']   \n",
       "92821                           ['Bad Bunny', 'ROSALÍA']   \n",
       "92823                                            ['SZA']   \n",
       "92829                       ['MEDUZA', 'Dermot Kennedy']   \n",
       "92824                       ['Bad Bunny', 'Jhay Cortez']   \n",
       "91867                                   ['Harry Styles']   \n",
       "92826                                  ['Ariana Grande']   \n",
       "\n",
       "                                              id_artists release_date  \\\n",
       "93802  ['1uNFoZAHBGtllmzznpCI3s', '20wkVLutqVOYrc0kxF...   2021-03-19   \n",
       "93803                         ['1McMsnEElThX1knmY4oliG']   2021-01-08   \n",
       "93804                         ['1uU7g3DNSbsu0QjSEqZtEd']   2021-01-06   \n",
       "92811                         ['1U1el3k54VvEUzo3ybLPlM']   2020-12-04   \n",
       "92810                         ['1Xyo4u8uXC1ZmMpatF05PJ']   2020-03-20   \n",
       "93805  ['0du5cEVh5yTK9QJze8zA0C', '3jK9MiCrA42lLAdMGU...   2021-03-05   \n",
       "92813                         ['1Xyo4u8uXC1ZmMpatF05PJ']   2020-03-20   \n",
       "92814                         ['2o5jDhtHVPhrJdv3cEQ99Z']   2020-09-16   \n",
       "93806  ['0n6sKrG0xKAf8xmdqeNGke', '3E6xrwgnVfYCrCs0eP...   2021-02-04   \n",
       "92819  ['7iK8PXO48WeuP03g8YR51W', '2LmcxBak1alK1bf7d1...   2020-12-10   \n",
       "93807  ['7i9j813KFoSBMldGqlh2Z1', '1gALaWbNDnwS2ECV09...   2021-01-15   \n",
       "92817                         ['2tIP7SsRs7vjIcLrU85W8J']   2020-11-06   \n",
       "91866                         ['5cj0lLjcoR7YOSnhnX0Po5']   2019-11-07   \n",
       "92816                         ['4fxd5Ee7UefO4CUXgwJ7IP']   2020-03-27   \n",
       "92821  ['4q3ewBCX7sLwd24euuV69X', '7ltDVBr6mKbRvohxhe...   2020-11-27   \n",
       "92823                         ['7tYKF4w9nC0nq9CsPZTHyP']   2020-12-25   \n",
       "92829  ['0xRXCcSX89eobfrshSVdyu', '5KNNVgR6LBIABRIomy...   2020-10-30   \n",
       "92824  ['4q3ewBCX7sLwd24euuV69X', '0EFisYRi20PTADoJri...   2020-10-30   \n",
       "91867                         ['6KImCVD70vtIoJWnq6nGn3']   2019-12-13   \n",
       "92826                         ['66CXWjxzNUsdJxJ2JdwvnR']   2020-10-30   \n",
       "\n",
       "       danceability  energy  key  loudness  mode  speechiness  acousticness  \\\n",
       "93802         0.677   0.696    0    -6.181     1       0.1190       0.32100   \n",
       "93803         0.585   0.436   10    -8.761     1       0.0601       0.72100   \n",
       "93804         0.778   0.695    4    -6.865     0       0.0913       0.17500   \n",
       "92811         0.653   0.524   11    -9.016     0       0.0502       0.11200   \n",
       "92810         0.680   0.826    0    -5.487     1       0.0309       0.02120   \n",
       "93805         0.586   0.616    5    -7.964     1       0.0324       0.18200   \n",
       "92813         0.514   0.730    1    -5.934     1       0.0598       0.00146   \n",
       "92814         0.798   0.620    8    -7.079     0       0.2320       0.41400   \n",
       "93806         0.849   0.701    6    -4.407     0       0.0600       0.40700   \n",
       "92819         0.713   0.617    8    -4.637     1       0.0887       0.12200   \n",
       "93807         0.824   0.862    2    -3.424     1       0.1260       0.00760   \n",
       "92817         0.662   0.413    0    -7.357     1       0.0299       0.21300   \n",
       "91866         0.749   0.463   11    -8.433     1       0.0828       0.20800   \n",
       "92816         0.449   0.465    0    -8.964     1       0.0791       0.52400   \n",
       "92821         0.856   0.618    7    -4.892     1       0.2860       0.03030   \n",
       "92823         0.436   0.655    1    -8.370     0       0.0583       0.49900   \n",
       "92829         0.632   0.595    8    -7.644     0       0.0401       0.06890   \n",
       "92824         0.731   0.573    4   -10.059     0       0.0544       0.40100   \n",
       "91867         0.548   0.816    0    -4.209     1       0.0465       0.12200   \n",
       "92826         0.737   0.802    0    -4.771     1       0.0878       0.46800   \n",
       "\n",
       "       instrumentalness  liveness  valence    tempo  time_signature  \n",
       "93802          0.000000    0.4200    0.464   90.030               4  \n",
       "93803          0.000013    0.1050    0.132  143.874               4  \n",
       "93804          0.000000    0.1500    0.472  149.996               4  \n",
       "92811          0.000000    0.2030    0.553   83.970               4  \n",
       "92810          0.000012    0.5430    0.644  118.051               4  \n",
       "93805          0.000000    0.0927    0.719  148.088               4  \n",
       "92813          0.000095    0.0897    0.334  171.005               4  \n",
       "92814          0.019200    0.1120    0.235  120.031               4  \n",
       "93806          0.000000    0.1120    0.505   98.005               4  \n",
       "92819          0.000000    0.0962    0.682  168.021               4  \n",
       "93807          0.000132    0.3030    0.801  122.980               4  \n",
       "92817          0.000000    0.1340    0.467   93.005               4  \n",
       "91866          0.037100    0.3370    0.190   90.028               4  \n",
       "92816          0.000001    0.3030    0.543   89.087               3  \n",
       "92821          0.000000    0.0866    0.391   81.993               4  \n",
       "92823          0.000008    0.6880    0.412  121.002               4  \n",
       "92829          0.000000    0.2090    0.435  124.114               4  \n",
       "92824          0.000052    0.1130    0.145  109.928               4  \n",
       "91867          0.000000    0.3350    0.557   95.390               4  \n",
       "92826          0.000000    0.0931    0.682  144.015               4  "
      ]
     },
     "execution_count": 39,
     "metadata": {},
     "output_type": "execute_result"
    }
   ],
   "source": [
    "#20 most popular songs\n",
    "top20 = track_df.head(20)\n",
    "top20"
   ]
  },
  {
   "cell_type": "code",
   "execution_count": 40,
   "id": "d8e2f28a",
   "metadata": {},
   "outputs": [],
   "source": [
    "artist_df =(track_df.groupby(['artists'], as_index=False).mean().groupby('artists')['popularity'].mean().sort_values(ascending=False))"
   ]
  },
  {
   "cell_type": "code",
   "execution_count": 41,
   "id": "30af3b65",
   "metadata": {},
   "outputs": [
    {
     "data": {
      "text/plain": [
       "artists\n",
       "['Riton', 'Nightcrawlers', 'Mufasa & Hypeman', 'Dopamine']       94.0\n",
       "['Los Legendarios', 'Wisin', 'Jhay Cortez']                      94.0\n",
       "['Bad Bunny', 'ROSALÍA']                                         93.0\n",
       "['Travis Scott', 'HVME']                                         92.0\n",
       "['Rochy RD', 'Myke Towers', 'Nicki Nicole']                      92.0\n",
       "['MEDUZA', 'Dermot Kennedy']                                     92.0\n",
       "['Nathan Evans', '220 KID', 'Billen Ted']                        92.0\n",
       "['Bad Bunny', 'Jhay Cortez']                                     91.0\n",
       "['Saweetie', 'Doja Cat']                                         90.0\n",
       "['Maroon 5', 'Megan Thee Stallion']                              90.0\n",
       "['Billie Eilish', 'Khalid']                                      89.0\n",
       "['Powfu', 'beabadoobee']                                         89.0\n",
       "['Drake', 'Lil Baby']                                            89.0\n",
       "['Milly', 'Farruko', 'Nio Garcia', 'Jay Wheeler', 'Amenazzy']    88.0\n",
       "['Sech', 'Daddy Yankee', 'J Balvin', 'ROSALÍA', 'Farruko']       88.0\n",
       "['Drake', 'Lil Durk']                                            88.0\n",
       "['Regard']                                                       87.0\n",
       "['Diego & Victor Hugo', 'Bruno & Marrone']                       87.0\n",
       "['Pop Smoke', 'A Boogie Wit da Hoodie']                          87.0\n",
       "['Wisin', 'Myke Towers', 'Los Legendarios']                      87.0\n",
       "Name: popularity, dtype: float64"
      ]
     },
     "execution_count": 41,
     "metadata": {},
     "output_type": "execute_result"
    }
   ],
   "source": [
    "artist_df.head(20)"
   ]
  },
  {
   "cell_type": "code",
   "execution_count": 42,
   "id": "124d3705",
   "metadata": {},
   "outputs": [
    {
     "data": {
      "text/plain": [
       "artists\n",
       "['Riton', 'Nightcrawlers', 'Mufasa & Hypeman', 'Dopamine']       94.0\n",
       "['Los Legendarios', 'Wisin', 'Jhay Cortez']                      94.0\n",
       "['Bad Bunny', 'ROSALÍA']                                         93.0\n",
       "['Travis Scott', 'HVME']                                         92.0\n",
       "['Rochy RD', 'Myke Towers', 'Nicki Nicole']                      92.0\n",
       "['MEDUZA', 'Dermot Kennedy']                                     92.0\n",
       "['Nathan Evans', '220 KID', 'Billen Ted']                        92.0\n",
       "['Bad Bunny', 'Jhay Cortez']                                     91.0\n",
       "['Saweetie', 'Doja Cat']                                         90.0\n",
       "['Maroon 5', 'Megan Thee Stallion']                              90.0\n",
       "['Billie Eilish', 'Khalid']                                      89.0\n",
       "['Powfu', 'beabadoobee']                                         89.0\n",
       "['Drake', 'Lil Baby']                                            89.0\n",
       "['Milly', 'Farruko', 'Nio Garcia', 'Jay Wheeler', 'Amenazzy']    88.0\n",
       "['Sech', 'Daddy Yankee', 'J Balvin', 'ROSALÍA', 'Farruko']       88.0\n",
       "['Drake', 'Lil Durk']                                            88.0\n",
       "['Regard']                                                       87.0\n",
       "['Diego & Victor Hugo', 'Bruno & Marrone']                       87.0\n",
       "['Pop Smoke', 'A Boogie Wit da Hoodie']                          87.0\n",
       "['Wisin', 'Myke Towers', 'Los Legendarios']                      87.0\n",
       "Name: popularity, dtype: float64"
      ]
     },
     "execution_count": 42,
     "metadata": {},
     "output_type": "execute_result"
    }
   ],
   "source": [
    "popular_artists = artist_df.head(20)\n",
    "popular_artists"
   ]
  },
  {
   "cell_type": "code",
   "execution_count": 43,
   "id": "867cf704",
   "metadata": {},
   "outputs": [
    {
     "data": {
      "application/vnd.plotly.v1+json": {
       "config": {
        "plotlyServerURL": "https://plot.ly"
       },
       "data": [
        {
         "hoverongaps": false,
         "type": "heatmap",
         "x": [
          "popularity",
          "duration_ms",
          "explict",
          "danceability",
          "energy",
          "key",
          "loudness",
          "mode",
          "speechiness",
          "acousticness",
          "instrumentalness",
          "liveness",
          "valence",
          "tempo",
          "time_signature"
         ],
         "y": [
          "popularity",
          "duration_ms",
          "explict",
          "danceability",
          "energy",
          "key",
          "loudness",
          "mode",
          "speechiness",
          "acousticness",
          "instrumentalness",
          "liveness",
          "valence",
          "tempo",
          "time_signature"
         ],
         "z": [
          [
           1,
           0.0276380576414584,
           0.21174871687733124,
           0.1868779568060284,
           0.30217823075419664,
           0.015306411718111894,
           0.3270012327056959,
           -0.0336521458493426,
           -0.04741501720074271,
           -0.37072305222326507,
           -0.23640294224562225,
           -0.0487354928700653,
           0.004558253772767901,
           0.07122322946217945,
           0.08671261285062505
          ],
          [
           0.0276380576414584,
           1,
           -0.016753353722126958,
           -0.12041117914551594,
           0.02478233702918387,
           0.004625386111795255,
           0.0003139581369596107,
           -0.0276039143556895,
           -0.12578270005628928,
           -0.0643936015908685,
           0.0693270144268286,
           0.002139319783231435,
           -0.1632334881318599,
           -0.0012487766657483144,
           0.03755306283123266
          ],
          [
           0.21174871687733124,
           -0.016753353722126958,
           1,
           0.1502158438286521,
           0.12306011983484025,
           0.010932768856936483,
           0.13459777482599272,
           -0.05175668031590547,
           0.10225129258579219,
           -0.14900061327212272,
           -0.06750989548766313,
           -0.013112998688194927,
           -0.016551466690394805,
           0.005723228242544637,
           0.044442156916901586
          ],
          [
           0.1868779568060284,
           -0.12041117914551594,
           0.1502158438286521,
           1,
           0.24146376635175945,
           0.018837067435201214,
           0.2513941817551514,
           -0.044726083719734896,
           0.1992909301164433,
           -0.2428375856773654,
           -0.22583073245968882,
           -0.10617457700361298,
           0.5281357619207868,
           -0.040895861603067844,
           0.14616570350420027
          ],
          [
           0.30217823075419664,
           0.02478233702918387,
           0.12306011983484025,
           0.24146376635175945,
           1,
           0.036303239195679037,
           0.7647435625938988,
           -0.06523790606232341,
           -0.0535597183805372,
           -0.7153659097357425,
           -0.19572732442464436,
           0.1246355605470834,
           0.372224176553248,
           0.2300062967234095,
           0.18897139422605036
          ],
          [
           0.015306411718111894,
           0.004625386111795255,
           0.010932768856936483,
           0.018837067435201214,
           0.036303239195679037,
           1,
           0.02710632090686811,
           -0.12949482861169434,
           -0.001033967318130742,
           -0.027427154681146957,
           -0.006787673291102086,
           -0.006763053331786834,
           0.019997613876274082,
           0.004912459508675451,
           0.008871480033060748
          ],
          [
           0.3270012327056959,
           0.0003139581369596107,
           0.13459777482599272,
           0.2513941817551514,
           0.7647435625938988,
           0.02710632090686811,
           1,
           -0.04045611012539241,
           -0.16714005414961158,
           -0.5194227330752865,
           -0.3292552470133053,
           0.029509337982665557,
           0.2754163685578078,
           0.18925217509919998,
           0.16437633490042644
          ],
          [
           -0.0336521458493426,
           -0.0276039143556895,
           -0.05175668031590547,
           -0.044726083719734896,
           -0.06523790606232341,
           -0.12949482861169434,
           -0.04045611012539241,
           1,
           -0.017991984556479247,
           0.05891432382118692,
           -0.010023477099173336,
           0.007025033521898381,
           0.011494005408463587,
           0.007876728104723953,
           -0.015899493220850016
          ],
          [
           -0.04741501720074271,
           -0.12578270005628928,
           0.10225129258579219,
           0.1992909301164433,
           -0.0535597183805372,
           -0.001033967318130742,
           -0.16714005414961158,
           -0.017991984556479247,
           1,
           0.0691211917326207,
           -0.10242476211441182,
           0.20706216459446206,
           0.04648094085255346,
           -0.08694997855001682,
           -0.1142109042844495
          ],
          [
           -0.37072305222326507,
           -0.0643936015908685,
           -0.14900061327212272,
           -0.2428375856773654,
           -0.7153659097357425,
           -0.027427154681146957,
           -0.5194227330752865,
           0.05891432382118692,
           0.0691211917326207,
           1,
           0.2043119755739605,
           -0.004742056363648935,
           -0.18087843644129997,
           -0.19511667687819326,
           -0.173920488855112
          ],
          [
           -0.23640294224562225,
           0.0693270144268286,
           -0.06750989548766313,
           -0.22583073245968882,
           -0.19572732442464436,
           -0.006787673291102086,
           -0.3292552470133053,
           -0.010023477099173336,
           -0.10242476211441182,
           0.2043119755739605,
           1,
           -0.03883601223749327,
           -0.17519454060372358,
           -0.055379806863174875,
           -0.042208854717378376
          ],
          [
           -0.0487354928700653,
           0.002139319783231435,
           -0.013112998688194927,
           -0.10617457700361298,
           0.1246355605470834,
           -0.006763053331786834,
           0.029509337982665557,
           0.007025033521898381,
           0.20706216459446206,
           -0.004742056363648935,
           -0.03883601223749327,
           1,
           -5.2010492397177114e-05,
           -0.014923359738788921,
           -0.02417061456500298
          ],
          [
           0.004558253772767901,
           -0.1632334881318599,
           -0.016551466690394805,
           0.5281357619207868,
           0.372224176553248,
           0.019997613876274082,
           0.2754163685578078,
           0.011494005408463587,
           0.04648094085255346,
           -0.18087843644129997,
           -0.17519454060372358,
           -5.2010492397177114e-05,
           1,
           0.1351979468254056,
           0.10550764028661566
          ],
          [
           0.07122322946217945,
           -0.0012487766657483144,
           0.005723228242544637,
           -0.040895861603067844,
           0.2300062967234095,
           0.004912459508675451,
           0.18925217509919998,
           0.007876728104723953,
           -0.08694997855001682,
           -0.19511667687819326,
           -0.055379806863174875,
           -0.014923359738788921,
           0.1351979468254056,
           1,
           0.03186070331016709
          ],
          [
           0.08671261285062505,
           0.03755306283123266,
           0.044442156916901586,
           0.14616570350420027,
           0.18897139422605036,
           0.008871480033060748,
           0.16437633490042644,
           -0.015899493220850016,
           -0.1142109042844495,
           -0.173920488855112,
           -0.042208854717378376,
           -0.02417061456500298,
           0.10550764028661566,
           0.03186070331016709,
           1
          ]
         ]
        }
       ],
       "layout": {
        "autosize": false,
        "height": 650,
        "margin": {
         "b": 200,
         "l": 200,
         "r": 200,
         "t": 200
        },
        "template": {
         "data": {
          "bar": [
           {
            "error_x": {
             "color": "#2a3f5f"
            },
            "error_y": {
             "color": "#2a3f5f"
            },
            "marker": {
             "line": {
              "color": "#E5ECF6",
              "width": 0.5
             },
             "pattern": {
              "fillmode": "overlay",
              "size": 10,
              "solidity": 0.2
             }
            },
            "type": "bar"
           }
          ],
          "barpolar": [
           {
            "marker": {
             "line": {
              "color": "#E5ECF6",
              "width": 0.5
             },
             "pattern": {
              "fillmode": "overlay",
              "size": 10,
              "solidity": 0.2
             }
            },
            "type": "barpolar"
           }
          ],
          "carpet": [
           {
            "aaxis": {
             "endlinecolor": "#2a3f5f",
             "gridcolor": "white",
             "linecolor": "white",
             "minorgridcolor": "white",
             "startlinecolor": "#2a3f5f"
            },
            "baxis": {
             "endlinecolor": "#2a3f5f",
             "gridcolor": "white",
             "linecolor": "white",
             "minorgridcolor": "white",
             "startlinecolor": "#2a3f5f"
            },
            "type": "carpet"
           }
          ],
          "choropleth": [
           {
            "colorbar": {
             "outlinewidth": 0,
             "ticks": ""
            },
            "type": "choropleth"
           }
          ],
          "contour": [
           {
            "colorbar": {
             "outlinewidth": 0,
             "ticks": ""
            },
            "colorscale": [
             [
              0,
              "#0d0887"
             ],
             [
              0.1111111111111111,
              "#46039f"
             ],
             [
              0.2222222222222222,
              "#7201a8"
             ],
             [
              0.3333333333333333,
              "#9c179e"
             ],
             [
              0.4444444444444444,
              "#bd3786"
             ],
             [
              0.5555555555555556,
              "#d8576b"
             ],
             [
              0.6666666666666666,
              "#ed7953"
             ],
             [
              0.7777777777777778,
              "#fb9f3a"
             ],
             [
              0.8888888888888888,
              "#fdca26"
             ],
             [
              1,
              "#f0f921"
             ]
            ],
            "type": "contour"
           }
          ],
          "contourcarpet": [
           {
            "colorbar": {
             "outlinewidth": 0,
             "ticks": ""
            },
            "type": "contourcarpet"
           }
          ],
          "heatmap": [
           {
            "colorbar": {
             "outlinewidth": 0,
             "ticks": ""
            },
            "colorscale": [
             [
              0,
              "#0d0887"
             ],
             [
              0.1111111111111111,
              "#46039f"
             ],
             [
              0.2222222222222222,
              "#7201a8"
             ],
             [
              0.3333333333333333,
              "#9c179e"
             ],
             [
              0.4444444444444444,
              "#bd3786"
             ],
             [
              0.5555555555555556,
              "#d8576b"
             ],
             [
              0.6666666666666666,
              "#ed7953"
             ],
             [
              0.7777777777777778,
              "#fb9f3a"
             ],
             [
              0.8888888888888888,
              "#fdca26"
             ],
             [
              1,
              "#f0f921"
             ]
            ],
            "type": "heatmap"
           }
          ],
          "heatmapgl": [
           {
            "colorbar": {
             "outlinewidth": 0,
             "ticks": ""
            },
            "colorscale": [
             [
              0,
              "#0d0887"
             ],
             [
              0.1111111111111111,
              "#46039f"
             ],
             [
              0.2222222222222222,
              "#7201a8"
             ],
             [
              0.3333333333333333,
              "#9c179e"
             ],
             [
              0.4444444444444444,
              "#bd3786"
             ],
             [
              0.5555555555555556,
              "#d8576b"
             ],
             [
              0.6666666666666666,
              "#ed7953"
             ],
             [
              0.7777777777777778,
              "#fb9f3a"
             ],
             [
              0.8888888888888888,
              "#fdca26"
             ],
             [
              1,
              "#f0f921"
             ]
            ],
            "type": "heatmapgl"
           }
          ],
          "histogram": [
           {
            "marker": {
             "pattern": {
              "fillmode": "overlay",
              "size": 10,
              "solidity": 0.2
             }
            },
            "type": "histogram"
           }
          ],
          "histogram2d": [
           {
            "colorbar": {
             "outlinewidth": 0,
             "ticks": ""
            },
            "colorscale": [
             [
              0,
              "#0d0887"
             ],
             [
              0.1111111111111111,
              "#46039f"
             ],
             [
              0.2222222222222222,
              "#7201a8"
             ],
             [
              0.3333333333333333,
              "#9c179e"
             ],
             [
              0.4444444444444444,
              "#bd3786"
             ],
             [
              0.5555555555555556,
              "#d8576b"
             ],
             [
              0.6666666666666666,
              "#ed7953"
             ],
             [
              0.7777777777777778,
              "#fb9f3a"
             ],
             [
              0.8888888888888888,
              "#fdca26"
             ],
             [
              1,
              "#f0f921"
             ]
            ],
            "type": "histogram2d"
           }
          ],
          "histogram2dcontour": [
           {
            "colorbar": {
             "outlinewidth": 0,
             "ticks": ""
            },
            "colorscale": [
             [
              0,
              "#0d0887"
             ],
             [
              0.1111111111111111,
              "#46039f"
             ],
             [
              0.2222222222222222,
              "#7201a8"
             ],
             [
              0.3333333333333333,
              "#9c179e"
             ],
             [
              0.4444444444444444,
              "#bd3786"
             ],
             [
              0.5555555555555556,
              "#d8576b"
             ],
             [
              0.6666666666666666,
              "#ed7953"
             ],
             [
              0.7777777777777778,
              "#fb9f3a"
             ],
             [
              0.8888888888888888,
              "#fdca26"
             ],
             [
              1,
              "#f0f921"
             ]
            ],
            "type": "histogram2dcontour"
           }
          ],
          "mesh3d": [
           {
            "colorbar": {
             "outlinewidth": 0,
             "ticks": ""
            },
            "type": "mesh3d"
           }
          ],
          "parcoords": [
           {
            "line": {
             "colorbar": {
              "outlinewidth": 0,
              "ticks": ""
             }
            },
            "type": "parcoords"
           }
          ],
          "pie": [
           {
            "automargin": true,
            "type": "pie"
           }
          ],
          "scatter": [
           {
            "fillpattern": {
             "fillmode": "overlay",
             "size": 10,
             "solidity": 0.2
            },
            "type": "scatter"
           }
          ],
          "scatter3d": [
           {
            "line": {
             "colorbar": {
              "outlinewidth": 0,
              "ticks": ""
             }
            },
            "marker": {
             "colorbar": {
              "outlinewidth": 0,
              "ticks": ""
             }
            },
            "type": "scatter3d"
           }
          ],
          "scattercarpet": [
           {
            "marker": {
             "colorbar": {
              "outlinewidth": 0,
              "ticks": ""
             }
            },
            "type": "scattercarpet"
           }
          ],
          "scattergeo": [
           {
            "marker": {
             "colorbar": {
              "outlinewidth": 0,
              "ticks": ""
             }
            },
            "type": "scattergeo"
           }
          ],
          "scattergl": [
           {
            "marker": {
             "colorbar": {
              "outlinewidth": 0,
              "ticks": ""
             }
            },
            "type": "scattergl"
           }
          ],
          "scattermapbox": [
           {
            "marker": {
             "colorbar": {
              "outlinewidth": 0,
              "ticks": ""
             }
            },
            "type": "scattermapbox"
           }
          ],
          "scatterpolar": [
           {
            "marker": {
             "colorbar": {
              "outlinewidth": 0,
              "ticks": ""
             }
            },
            "type": "scatterpolar"
           }
          ],
          "scatterpolargl": [
           {
            "marker": {
             "colorbar": {
              "outlinewidth": 0,
              "ticks": ""
             }
            },
            "type": "scatterpolargl"
           }
          ],
          "scatterternary": [
           {
            "marker": {
             "colorbar": {
              "outlinewidth": 0,
              "ticks": ""
             }
            },
            "type": "scatterternary"
           }
          ],
          "surface": [
           {
            "colorbar": {
             "outlinewidth": 0,
             "ticks": ""
            },
            "colorscale": [
             [
              0,
              "#0d0887"
             ],
             [
              0.1111111111111111,
              "#46039f"
             ],
             [
              0.2222222222222222,
              "#7201a8"
             ],
             [
              0.3333333333333333,
              "#9c179e"
             ],
             [
              0.4444444444444444,
              "#bd3786"
             ],
             [
              0.5555555555555556,
              "#d8576b"
             ],
             [
              0.6666666666666666,
              "#ed7953"
             ],
             [
              0.7777777777777778,
              "#fb9f3a"
             ],
             [
              0.8888888888888888,
              "#fdca26"
             ],
             [
              1,
              "#f0f921"
             ]
            ],
            "type": "surface"
           }
          ],
          "table": [
           {
            "cells": {
             "fill": {
              "color": "#EBF0F8"
             },
             "line": {
              "color": "white"
             }
            },
            "header": {
             "fill": {
              "color": "#C8D4E3"
             },
             "line": {
              "color": "white"
             }
            },
            "type": "table"
           }
          ]
         },
         "layout": {
          "annotationdefaults": {
           "arrowcolor": "#2a3f5f",
           "arrowhead": 0,
           "arrowwidth": 1
          },
          "autotypenumbers": "strict",
          "coloraxis": {
           "colorbar": {
            "outlinewidth": 0,
            "ticks": ""
           }
          },
          "colorscale": {
           "diverging": [
            [
             0,
             "#8e0152"
            ],
            [
             0.1,
             "#c51b7d"
            ],
            [
             0.2,
             "#de77ae"
            ],
            [
             0.3,
             "#f1b6da"
            ],
            [
             0.4,
             "#fde0ef"
            ],
            [
             0.5,
             "#f7f7f7"
            ],
            [
             0.6,
             "#e6f5d0"
            ],
            [
             0.7,
             "#b8e186"
            ],
            [
             0.8,
             "#7fbc41"
            ],
            [
             0.9,
             "#4d9221"
            ],
            [
             1,
             "#276419"
            ]
           ],
           "sequential": [
            [
             0,
             "#0d0887"
            ],
            [
             0.1111111111111111,
             "#46039f"
            ],
            [
             0.2222222222222222,
             "#7201a8"
            ],
            [
             0.3333333333333333,
             "#9c179e"
            ],
            [
             0.4444444444444444,
             "#bd3786"
            ],
            [
             0.5555555555555556,
             "#d8576b"
            ],
            [
             0.6666666666666666,
             "#ed7953"
            ],
            [
             0.7777777777777778,
             "#fb9f3a"
            ],
            [
             0.8888888888888888,
             "#fdca26"
            ],
            [
             1,
             "#f0f921"
            ]
           ],
           "sequentialminus": [
            [
             0,
             "#0d0887"
            ],
            [
             0.1111111111111111,
             "#46039f"
            ],
            [
             0.2222222222222222,
             "#7201a8"
            ],
            [
             0.3333333333333333,
             "#9c179e"
            ],
            [
             0.4444444444444444,
             "#bd3786"
            ],
            [
             0.5555555555555556,
             "#d8576b"
            ],
            [
             0.6666666666666666,
             "#ed7953"
            ],
            [
             0.7777777777777778,
             "#fb9f3a"
            ],
            [
             0.8888888888888888,
             "#fdca26"
            ],
            [
             1,
             "#f0f921"
            ]
           ]
          },
          "colorway": [
           "#636efa",
           "#EF553B",
           "#00cc96",
           "#ab63fa",
           "#FFA15A",
           "#19d3f3",
           "#FF6692",
           "#B6E880",
           "#FF97FF",
           "#FECB52"
          ],
          "font": {
           "color": "#2a3f5f"
          },
          "geo": {
           "bgcolor": "white",
           "lakecolor": "white",
           "landcolor": "#E5ECF6",
           "showlakes": true,
           "showland": true,
           "subunitcolor": "white"
          },
          "hoverlabel": {
           "align": "left"
          },
          "hovermode": "closest",
          "mapbox": {
           "style": "light"
          },
          "paper_bgcolor": "white",
          "plot_bgcolor": "#E5ECF6",
          "polar": {
           "angularaxis": {
            "gridcolor": "white",
            "linecolor": "white",
            "ticks": ""
           },
           "bgcolor": "#E5ECF6",
           "radialaxis": {
            "gridcolor": "white",
            "linecolor": "white",
            "ticks": ""
           }
          },
          "scene": {
           "xaxis": {
            "backgroundcolor": "#E5ECF6",
            "gridcolor": "white",
            "gridwidth": 2,
            "linecolor": "white",
            "showbackground": true,
            "ticks": "",
            "zerolinecolor": "white"
           },
           "yaxis": {
            "backgroundcolor": "#E5ECF6",
            "gridcolor": "white",
            "gridwidth": 2,
            "linecolor": "white",
            "showbackground": true,
            "ticks": "",
            "zerolinecolor": "white"
           },
           "zaxis": {
            "backgroundcolor": "#E5ECF6",
            "gridcolor": "white",
            "gridwidth": 2,
            "linecolor": "white",
            "showbackground": true,
            "ticks": "",
            "zerolinecolor": "white"
           }
          },
          "shapedefaults": {
           "line": {
            "color": "#2a3f5f"
           }
          },
          "ternary": {
           "aaxis": {
            "gridcolor": "white",
            "linecolor": "white",
            "ticks": ""
           },
           "baxis": {
            "gridcolor": "white",
            "linecolor": "white",
            "ticks": ""
           },
           "bgcolor": "#E5ECF6",
           "caxis": {
            "gridcolor": "white",
            "linecolor": "white",
            "ticks": ""
           }
          },
          "title": {
           "x": 0.05
          },
          "xaxis": {
           "automargin": true,
           "gridcolor": "white",
           "linecolor": "white",
           "ticks": "",
           "title": {
            "standoff": 15
           },
           "zerolinecolor": "white",
           "zerolinewidth": 2
          },
          "yaxis": {
           "automargin": true,
           "gridcolor": "white",
           "linecolor": "white",
           "ticks": "",
           "title": {
            "standoff": 15
           },
           "zerolinecolor": "white",
           "zerolinewidth": 2
          }
         }
        },
        "width": 800
       }
      },
      "text/html": [
       "<div>                            <div id=\"a66fedd4-4432-4951-ba05-78090901258b\" class=\"plotly-graph-div\" style=\"height:650px; width:800px;\"></div>            <script type=\"text/javascript\">                require([\"plotly\"], function(Plotly) {                    window.PLOTLYENV=window.PLOTLYENV || {};                                    if (document.getElementById(\"a66fedd4-4432-4951-ba05-78090901258b\")) {                    Plotly.newPlot(                        \"a66fedd4-4432-4951-ba05-78090901258b\",                        [{\"hoverongaps\":false,\"x\":[\"popularity\",\"duration_ms\",\"explict\",\"danceability\",\"energy\",\"key\",\"loudness\",\"mode\",\"speechiness\",\"acousticness\",\"instrumentalness\",\"liveness\",\"valence\",\"tempo\",\"time_signature\"],\"y\":[\"popularity\",\"duration_ms\",\"explict\",\"danceability\",\"energy\",\"key\",\"loudness\",\"mode\",\"speechiness\",\"acousticness\",\"instrumentalness\",\"liveness\",\"valence\",\"tempo\",\"time_signature\"],\"z\":[[1.0,0.0276380576414584,0.21174871687733124,0.1868779568060284,0.30217823075419664,0.015306411718111894,0.3270012327056959,-0.0336521458493426,-0.04741501720074271,-0.37072305222326507,-0.23640294224562225,-0.0487354928700653,0.004558253772767901,0.07122322946217945,0.08671261285062505],[0.0276380576414584,1.0,-0.016753353722126958,-0.12041117914551594,0.02478233702918387,0.004625386111795255,0.0003139581369596107,-0.0276039143556895,-0.12578270005628928,-0.0643936015908685,0.0693270144268286,0.002139319783231435,-0.1632334881318599,-0.0012487766657483144,0.03755306283123266],[0.21174871687733124,-0.016753353722126958,1.0,0.1502158438286521,0.12306011983484025,0.010932768856936483,0.13459777482599272,-0.05175668031590547,0.10225129258579219,-0.14900061327212272,-0.06750989548766313,-0.013112998688194927,-0.016551466690394805,0.005723228242544637,0.044442156916901586],[0.1868779568060284,-0.12041117914551594,0.1502158438286521,1.0,0.24146376635175945,0.018837067435201214,0.2513941817551514,-0.044726083719734896,0.1992909301164433,-0.2428375856773654,-0.22583073245968882,-0.10617457700361298,0.5281357619207868,-0.040895861603067844,0.14616570350420027],[0.30217823075419664,0.02478233702918387,0.12306011983484025,0.24146376635175945,1.0,0.036303239195679037,0.7647435625938988,-0.06523790606232341,-0.0535597183805372,-0.7153659097357425,-0.19572732442464436,0.1246355605470834,0.372224176553248,0.2300062967234095,0.18897139422605036],[0.015306411718111894,0.004625386111795255,0.010932768856936483,0.018837067435201214,0.036303239195679037,1.0,0.02710632090686811,-0.12949482861169434,-0.001033967318130742,-0.027427154681146957,-0.006787673291102086,-0.006763053331786834,0.019997613876274082,0.004912459508675451,0.008871480033060748],[0.3270012327056959,0.0003139581369596107,0.13459777482599272,0.2513941817551514,0.7647435625938988,0.02710632090686811,1.0,-0.04045611012539241,-0.16714005414961158,-0.5194227330752865,-0.3292552470133053,0.029509337982665557,0.2754163685578078,0.18925217509919998,0.16437633490042644],[-0.0336521458493426,-0.0276039143556895,-0.05175668031590547,-0.044726083719734896,-0.06523790606232341,-0.12949482861169434,-0.04045611012539241,1.0,-0.017991984556479247,0.05891432382118692,-0.010023477099173336,0.007025033521898381,0.011494005408463587,0.007876728104723953,-0.015899493220850016],[-0.04741501720074271,-0.12578270005628928,0.10225129258579219,0.1992909301164433,-0.0535597183805372,-0.001033967318130742,-0.16714005414961158,-0.017991984556479247,1.0,0.0691211917326207,-0.10242476211441182,0.20706216459446206,0.04648094085255346,-0.08694997855001682,-0.1142109042844495],[-0.37072305222326507,-0.0643936015908685,-0.14900061327212272,-0.2428375856773654,-0.7153659097357425,-0.027427154681146957,-0.5194227330752865,0.05891432382118692,0.0691211917326207,1.0,0.2043119755739605,-0.004742056363648935,-0.18087843644129997,-0.19511667687819326,-0.173920488855112],[-0.23640294224562225,0.0693270144268286,-0.06750989548766313,-0.22583073245968882,-0.19572732442464436,-0.006787673291102086,-0.3292552470133053,-0.010023477099173336,-0.10242476211441182,0.2043119755739605,1.0,-0.03883601223749327,-0.17519454060372358,-0.055379806863174875,-0.042208854717378376],[-0.0487354928700653,0.002139319783231435,-0.013112998688194927,-0.10617457700361298,0.1246355605470834,-0.006763053331786834,0.029509337982665557,0.007025033521898381,0.20706216459446206,-0.004742056363648935,-0.03883601223749327,1.0,-5.2010492397177114e-05,-0.014923359738788921,-0.02417061456500298],[0.004558253772767901,-0.1632334881318599,-0.016551466690394805,0.5281357619207868,0.372224176553248,0.019997613876274082,0.2754163685578078,0.011494005408463587,0.04648094085255346,-0.18087843644129997,-0.17519454060372358,-5.2010492397177114e-05,1.0,0.1351979468254056,0.10550764028661566],[0.07122322946217945,-0.0012487766657483144,0.005723228242544637,-0.040895861603067844,0.2300062967234095,0.004912459508675451,0.18925217509919998,0.007876728104723953,-0.08694997855001682,-0.19511667687819326,-0.055379806863174875,-0.014923359738788921,0.1351979468254056,1.0,0.03186070331016709],[0.08671261285062505,0.03755306283123266,0.044442156916901586,0.14616570350420027,0.18897139422605036,0.008871480033060748,0.16437633490042644,-0.015899493220850016,-0.1142109042844495,-0.173920488855112,-0.042208854717378376,-0.02417061456500298,0.10550764028661566,0.03186070331016709,1.0]],\"type\":\"heatmap\"}],                        {\"template\":{\"data\":{\"histogram2dcontour\":[{\"type\":\"histogram2dcontour\",\"colorbar\":{\"outlinewidth\":0,\"ticks\":\"\"},\"colorscale\":[[0.0,\"#0d0887\"],[0.1111111111111111,\"#46039f\"],[0.2222222222222222,\"#7201a8\"],[0.3333333333333333,\"#9c179e\"],[0.4444444444444444,\"#bd3786\"],[0.5555555555555556,\"#d8576b\"],[0.6666666666666666,\"#ed7953\"],[0.7777777777777778,\"#fb9f3a\"],[0.8888888888888888,\"#fdca26\"],[1.0,\"#f0f921\"]]}],\"choropleth\":[{\"type\":\"choropleth\",\"colorbar\":{\"outlinewidth\":0,\"ticks\":\"\"}}],\"histogram2d\":[{\"type\":\"histogram2d\",\"colorbar\":{\"outlinewidth\":0,\"ticks\":\"\"},\"colorscale\":[[0.0,\"#0d0887\"],[0.1111111111111111,\"#46039f\"],[0.2222222222222222,\"#7201a8\"],[0.3333333333333333,\"#9c179e\"],[0.4444444444444444,\"#bd3786\"],[0.5555555555555556,\"#d8576b\"],[0.6666666666666666,\"#ed7953\"],[0.7777777777777778,\"#fb9f3a\"],[0.8888888888888888,\"#fdca26\"],[1.0,\"#f0f921\"]]}],\"heatmap\":[{\"type\":\"heatmap\",\"colorbar\":{\"outlinewidth\":0,\"ticks\":\"\"},\"colorscale\":[[0.0,\"#0d0887\"],[0.1111111111111111,\"#46039f\"],[0.2222222222222222,\"#7201a8\"],[0.3333333333333333,\"#9c179e\"],[0.4444444444444444,\"#bd3786\"],[0.5555555555555556,\"#d8576b\"],[0.6666666666666666,\"#ed7953\"],[0.7777777777777778,\"#fb9f3a\"],[0.8888888888888888,\"#fdca26\"],[1.0,\"#f0f921\"]]}],\"heatmapgl\":[{\"type\":\"heatmapgl\",\"colorbar\":{\"outlinewidth\":0,\"ticks\":\"\"},\"colorscale\":[[0.0,\"#0d0887\"],[0.1111111111111111,\"#46039f\"],[0.2222222222222222,\"#7201a8\"],[0.3333333333333333,\"#9c179e\"],[0.4444444444444444,\"#bd3786\"],[0.5555555555555556,\"#d8576b\"],[0.6666666666666666,\"#ed7953\"],[0.7777777777777778,\"#fb9f3a\"],[0.8888888888888888,\"#fdca26\"],[1.0,\"#f0f921\"]]}],\"contourcarpet\":[{\"type\":\"contourcarpet\",\"colorbar\":{\"outlinewidth\":0,\"ticks\":\"\"}}],\"contour\":[{\"type\":\"contour\",\"colorbar\":{\"outlinewidth\":0,\"ticks\":\"\"},\"colorscale\":[[0.0,\"#0d0887\"],[0.1111111111111111,\"#46039f\"],[0.2222222222222222,\"#7201a8\"],[0.3333333333333333,\"#9c179e\"],[0.4444444444444444,\"#bd3786\"],[0.5555555555555556,\"#d8576b\"],[0.6666666666666666,\"#ed7953\"],[0.7777777777777778,\"#fb9f3a\"],[0.8888888888888888,\"#fdca26\"],[1.0,\"#f0f921\"]]}],\"surface\":[{\"type\":\"surface\",\"colorbar\":{\"outlinewidth\":0,\"ticks\":\"\"},\"colorscale\":[[0.0,\"#0d0887\"],[0.1111111111111111,\"#46039f\"],[0.2222222222222222,\"#7201a8\"],[0.3333333333333333,\"#9c179e\"],[0.4444444444444444,\"#bd3786\"],[0.5555555555555556,\"#d8576b\"],[0.6666666666666666,\"#ed7953\"],[0.7777777777777778,\"#fb9f3a\"],[0.8888888888888888,\"#fdca26\"],[1.0,\"#f0f921\"]]}],\"mesh3d\":[{\"type\":\"mesh3d\",\"colorbar\":{\"outlinewidth\":0,\"ticks\":\"\"}}],\"scatter\":[{\"fillpattern\":{\"fillmode\":\"overlay\",\"size\":10,\"solidity\":0.2},\"type\":\"scatter\"}],\"parcoords\":[{\"type\":\"parcoords\",\"line\":{\"colorbar\":{\"outlinewidth\":0,\"ticks\":\"\"}}}],\"scatterpolargl\":[{\"type\":\"scatterpolargl\",\"marker\":{\"colorbar\":{\"outlinewidth\":0,\"ticks\":\"\"}}}],\"bar\":[{\"error_x\":{\"color\":\"#2a3f5f\"},\"error_y\":{\"color\":\"#2a3f5f\"},\"marker\":{\"line\":{\"color\":\"#E5ECF6\",\"width\":0.5},\"pattern\":{\"fillmode\":\"overlay\",\"size\":10,\"solidity\":0.2}},\"type\":\"bar\"}],\"scattergeo\":[{\"type\":\"scattergeo\",\"marker\":{\"colorbar\":{\"outlinewidth\":0,\"ticks\":\"\"}}}],\"scatterpolar\":[{\"type\":\"scatterpolar\",\"marker\":{\"colorbar\":{\"outlinewidth\":0,\"ticks\":\"\"}}}],\"histogram\":[{\"marker\":{\"pattern\":{\"fillmode\":\"overlay\",\"size\":10,\"solidity\":0.2}},\"type\":\"histogram\"}],\"scattergl\":[{\"type\":\"scattergl\",\"marker\":{\"colorbar\":{\"outlinewidth\":0,\"ticks\":\"\"}}}],\"scatter3d\":[{\"type\":\"scatter3d\",\"line\":{\"colorbar\":{\"outlinewidth\":0,\"ticks\":\"\"}},\"marker\":{\"colorbar\":{\"outlinewidth\":0,\"ticks\":\"\"}}}],\"scattermapbox\":[{\"type\":\"scattermapbox\",\"marker\":{\"colorbar\":{\"outlinewidth\":0,\"ticks\":\"\"}}}],\"scatterternary\":[{\"type\":\"scatterternary\",\"marker\":{\"colorbar\":{\"outlinewidth\":0,\"ticks\":\"\"}}}],\"scattercarpet\":[{\"type\":\"scattercarpet\",\"marker\":{\"colorbar\":{\"outlinewidth\":0,\"ticks\":\"\"}}}],\"carpet\":[{\"aaxis\":{\"endlinecolor\":\"#2a3f5f\",\"gridcolor\":\"white\",\"linecolor\":\"white\",\"minorgridcolor\":\"white\",\"startlinecolor\":\"#2a3f5f\"},\"baxis\":{\"endlinecolor\":\"#2a3f5f\",\"gridcolor\":\"white\",\"linecolor\":\"white\",\"minorgridcolor\":\"white\",\"startlinecolor\":\"#2a3f5f\"},\"type\":\"carpet\"}],\"table\":[{\"cells\":{\"fill\":{\"color\":\"#EBF0F8\"},\"line\":{\"color\":\"white\"}},\"header\":{\"fill\":{\"color\":\"#C8D4E3\"},\"line\":{\"color\":\"white\"}},\"type\":\"table\"}],\"barpolar\":[{\"marker\":{\"line\":{\"color\":\"#E5ECF6\",\"width\":0.5},\"pattern\":{\"fillmode\":\"overlay\",\"size\":10,\"solidity\":0.2}},\"type\":\"barpolar\"}],\"pie\":[{\"automargin\":true,\"type\":\"pie\"}]},\"layout\":{\"autotypenumbers\":\"strict\",\"colorway\":[\"#636efa\",\"#EF553B\",\"#00cc96\",\"#ab63fa\",\"#FFA15A\",\"#19d3f3\",\"#FF6692\",\"#B6E880\",\"#FF97FF\",\"#FECB52\"],\"font\":{\"color\":\"#2a3f5f\"},\"hovermode\":\"closest\",\"hoverlabel\":{\"align\":\"left\"},\"paper_bgcolor\":\"white\",\"plot_bgcolor\":\"#E5ECF6\",\"polar\":{\"bgcolor\":\"#E5ECF6\",\"angularaxis\":{\"gridcolor\":\"white\",\"linecolor\":\"white\",\"ticks\":\"\"},\"radialaxis\":{\"gridcolor\":\"white\",\"linecolor\":\"white\",\"ticks\":\"\"}},\"ternary\":{\"bgcolor\":\"#E5ECF6\",\"aaxis\":{\"gridcolor\":\"white\",\"linecolor\":\"white\",\"ticks\":\"\"},\"baxis\":{\"gridcolor\":\"white\",\"linecolor\":\"white\",\"ticks\":\"\"},\"caxis\":{\"gridcolor\":\"white\",\"linecolor\":\"white\",\"ticks\":\"\"}},\"coloraxis\":{\"colorbar\":{\"outlinewidth\":0,\"ticks\":\"\"}},\"colorscale\":{\"sequential\":[[0.0,\"#0d0887\"],[0.1111111111111111,\"#46039f\"],[0.2222222222222222,\"#7201a8\"],[0.3333333333333333,\"#9c179e\"],[0.4444444444444444,\"#bd3786\"],[0.5555555555555556,\"#d8576b\"],[0.6666666666666666,\"#ed7953\"],[0.7777777777777778,\"#fb9f3a\"],[0.8888888888888888,\"#fdca26\"],[1.0,\"#f0f921\"]],\"sequentialminus\":[[0.0,\"#0d0887\"],[0.1111111111111111,\"#46039f\"],[0.2222222222222222,\"#7201a8\"],[0.3333333333333333,\"#9c179e\"],[0.4444444444444444,\"#bd3786\"],[0.5555555555555556,\"#d8576b\"],[0.6666666666666666,\"#ed7953\"],[0.7777777777777778,\"#fb9f3a\"],[0.8888888888888888,\"#fdca26\"],[1.0,\"#f0f921\"]],\"diverging\":[[0,\"#8e0152\"],[0.1,\"#c51b7d\"],[0.2,\"#de77ae\"],[0.3,\"#f1b6da\"],[0.4,\"#fde0ef\"],[0.5,\"#f7f7f7\"],[0.6,\"#e6f5d0\"],[0.7,\"#b8e186\"],[0.8,\"#7fbc41\"],[0.9,\"#4d9221\"],[1,\"#276419\"]]},\"xaxis\":{\"gridcolor\":\"white\",\"linecolor\":\"white\",\"ticks\":\"\",\"title\":{\"standoff\":15},\"zerolinecolor\":\"white\",\"automargin\":true,\"zerolinewidth\":2},\"yaxis\":{\"gridcolor\":\"white\",\"linecolor\":\"white\",\"ticks\":\"\",\"title\":{\"standoff\":15},\"zerolinecolor\":\"white\",\"automargin\":true,\"zerolinewidth\":2},\"scene\":{\"xaxis\":{\"backgroundcolor\":\"#E5ECF6\",\"gridcolor\":\"white\",\"linecolor\":\"white\",\"showbackground\":true,\"ticks\":\"\",\"zerolinecolor\":\"white\",\"gridwidth\":2},\"yaxis\":{\"backgroundcolor\":\"#E5ECF6\",\"gridcolor\":\"white\",\"linecolor\":\"white\",\"showbackground\":true,\"ticks\":\"\",\"zerolinecolor\":\"white\",\"gridwidth\":2},\"zaxis\":{\"backgroundcolor\":\"#E5ECF6\",\"gridcolor\":\"white\",\"linecolor\":\"white\",\"showbackground\":true,\"ticks\":\"\",\"zerolinecolor\":\"white\",\"gridwidth\":2}},\"shapedefaults\":{\"line\":{\"color\":\"#2a3f5f\"}},\"annotationdefaults\":{\"arrowcolor\":\"#2a3f5f\",\"arrowhead\":0,\"arrowwidth\":1},\"geo\":{\"bgcolor\":\"white\",\"landcolor\":\"#E5ECF6\",\"subunitcolor\":\"white\",\"showland\":true,\"showlakes\":true,\"lakecolor\":\"white\"},\"title\":{\"x\":0.05},\"mapbox\":{\"style\":\"light\"}}},\"margin\":{\"t\":200,\"r\":200,\"b\":200,\"l\":200},\"width\":800,\"height\":650,\"autosize\":false},                        {\"responsive\": true}                    ).then(function(){\n",
       "                            \n",
       "var gd = document.getElementById('a66fedd4-4432-4951-ba05-78090901258b');\n",
       "var x = new MutationObserver(function (mutations, observer) {{\n",
       "        var display = window.getComputedStyle(gd).display;\n",
       "        if (!display || display === 'none') {{\n",
       "            console.log([gd, 'removed!']);\n",
       "            Plotly.purge(gd);\n",
       "            observer.disconnect();\n",
       "        }}\n",
       "}});\n",
       "\n",
       "// Listen for the removal of the full notebook cells\n",
       "var notebookContainer = gd.closest('#notebook-container');\n",
       "if (notebookContainer) {{\n",
       "    x.observe(notebookContainer, {childList: true});\n",
       "}}\n",
       "\n",
       "// Listen for the clearing of the current output cell\n",
       "var outputEl = gd.closest('.output');\n",
       "if (outputEl) {{\n",
       "    x.observe(outputEl, {childList: true});\n",
       "}}\n",
       "\n",
       "                        })                };                });            </script>        </div>"
      ]
     },
     "metadata": {},
     "output_type": "display_data"
    }
   ],
   "source": [
    "#see correlation between any two given features with heatmap\n",
    "import plotly.graph_objects as go\n",
    "matrix = track_df.corr()\n",
    "x_list=['popularity','duration_ms','explict','danceability','energy','key','loudness','mode','speechiness','acousticness','instrumentalness','liveness','valence','tempo','time_signature']\n",
    "fig_heatmap = go.Figure(data=go.Heatmap(z=matrix,x=x_list,y=x_list,hoverongaps = False))\n",
    "fig_heatmap.update_layout(margin=dict(t=200,r=200,b=200,l=200),width=800,height=650,autosize=False)\n",
    "fig_heatmap.show()"
   ]
  },
  {
   "cell_type": "code",
   "execution_count": 44,
   "id": "d3c59154",
   "metadata": {},
   "outputs": [],
   "source": [
    "features = ['explicit','danceability','energy','key','loudness','mode','speechiness','acousticness','instrumentalness','liveness','valence','tempo','duration_ms']\n"
   ]
  },
  {
   "cell_type": "code",
   "execution_count": 45,
   "id": "eac892af",
   "metadata": {},
   "outputs": [],
   "source": [
    "df = track_df[features]"
   ]
  },
  {
   "cell_type": "code",
   "execution_count": 46,
   "id": "86b9282b",
   "metadata": {},
   "outputs": [],
   "source": [
    "df = (df -df.mean()) / df.std()"
   ]
  },
  {
   "cell_type": "code",
   "execution_count": 47,
   "id": "21707431",
   "metadata": {},
   "outputs": [],
   "source": [
    "\n",
    "#create an empty list to store sum of squared distances for each number of clusters\n",
    "sse = []\n",
    "\n",
    "#Fit the Kmeans model to the data with a range of different numbers of clusters\n",
    "for k in range(1, 15):\n",
    "        kmeans = KMeans(n_clusters=k)\n",
    "        kmeans.fit(df)\n",
    "#add the sum of squared distances for the current number of clusters to the list\n",
    "        sse.append(kmeans.inertia_)"
   ]
  },
  {
   "cell_type": "code",
   "execution_count": 48,
   "id": "94211de9",
   "metadata": {},
   "outputs": [
    {
     "data": {
      "image/png": "[encoded data removed]",
      "text/plain": [
       "<Figure size 640x480 with 1 Axes>"
      ]
     },
     "metadata": {},
     "output_type": "display_data"
    }
   ],
   "source": [
    "#plot the sum squared distances for each number of clusters for elbow method\n",
    "plt.plot(range(1,15), sse)\n",
    "plt.title('Elbow Method for Clustering')\n",
    "plt.xlabel('Number of Clusters')\n",
    "plt.ylabel('Sum of Squared Distances')\n",
    "plt.show()"
   ]
  },
  {
   "cell_type": "code",
   "execution_count": 62,
   "id": "19df3ae1",
   "metadata": {},
   "outputs": [
    {
     "data": {
      "text/plain": [
       "KMeans(n_clusters=14, random_state=1)"
      ]
     },
     "execution_count": 62,
     "metadata": {},
     "output_type": "execute_result"
    }
   ],
   "source": [
    "#Create the KMeans with 14 clusters\n",
    "kmeans = KMeans(n_clusters=14, random_state=1)\n",
    "#fit the data\n",
    "kmeans.fit(df)"
   ]
  },
  {
   "cell_type": "code",
   "execution_count": 63,
   "id": "7ef75d07",
   "metadata": {
    "scrolled": true
   },
   "outputs": [
    {
     "name": "stdout",
     "output_type": "stream",
     "text": [
      "[9 9 2 2 9 8 3 2 2 8]\n"
     ]
    }
   ],
   "source": [
    "#Generate the clusters with KMeans via predict() model on the fitted KMeans model\n",
    "clusters = kmeans.predict(df)\n",
    "\n",
    "#print the cluster assignments for the first few data points\n",
    "print(clusters[:10])"
   ]
  },
  {
   "cell_type": "code",
   "execution_count": null,
   "id": "a56c1c92",
   "metadata": {},
   "outputs": [],
   "source": [
    "#Evaluate the quality of the generated clusters\n",
    "silhouette_score(df, clusters)"
   ]
  },
  {
   "cell_type": "code",
   "execution_count": 61,
   "id": "fe49665a",
   "metadata": {},
   "outputs": [
    {
     "data": {
      "image/png": "[encoded data removed]",
      "text/plain": [
       "<Figure size 640x480 with 1 Axes>"
      ]
     },
     "metadata": {},
     "output_type": "display_data"
    }
   ],
   "source": [
    "# Visualize the clusters\n",
    "\n",
    "#create two components\n",
    "pca= PCA(n_components=2) \n",
    "#reduce to two dimensions using PCA\n",
    "df_2d = pca.fit_transform(df)\n",
    "\n",
    "#Plot the data points via scatter plot\n",
    "plt.scatter(df_2d[:, 0],df_2d[:, 1], c=clusters)\n",
    "plt.title('Clustering of Spotify Song Features')\n",
    "plt.xlabel('Component 1')\n",
    "plt.ylabel('Component 2')\n",
    "plt.show()"
   ]
  },
  {
   "cell_type": "code",
   "execution_count": null,
   "id": "837fa0af",
   "metadata": {},
   "outputs": [],
   "source": [
    "#Unique cluster assignments\n",
    "unique_clusters = np.unique(clusters)\n",
    "\n",
    "#create grid of subplots\n",
    "fig, axs = plt.subplots(nrows=4, ncols=2, figsize =(8, 8), sharex=True, sharey=True)\n",
    "\n",
    "#flatten the array of subplots for easier iteration\n",
    "axs = axs.flatten()\n",
    "\n",
    "#iterate over the clusters\n",
    "for i, cluster in enumerate(unique_clusters):\n",
    "    #select the data points for current cluster\n",
    "    df_cluster = df_2d[clusters == cluster]\n",
    "    \n",
    "    #Select the data points belonging to other clusters\n",
    "    df_other_clusters = df_2d[clusters != cluster]\n",
    "    \n",
    "    #plot the data points belonging to other clusters in the grey\n",
    "    axs[i].scatter(df_other_clusters[:,0], df_other_clusters[:,1], c='grey', label='Other Clusters', alpha =0.5)\n",
    "    \n",
    "    #plot the data points belonging to the current cluster with a different color\n",
    "    axs[i].scatter(df_cluster[:, 0], df_cluster[:, 1], c='red', label='Cluster {}'.format(cluster))\n",
    "    \n",
    "    #set the x and y labels for the current subplot\n",
    "    axs[i].set_xlabel('Component 1')\n",
    "    axs[i].set_ylabel('Component 2')\n",
    "    \n",
    "    #add a legend to the current subplot\n",
    "    axs[i].legend()\n",
    "    \n",
    "    plt.show()"
   ]
  }
 ],
 "metadata": {
  "kernelspec": {
   "display_name": "Python 3 (ipykernel)",
   "language": "python",
   "name": "python3"
  },
  "language_info": {
   "codemirror_mode": {
    "name": "ipython",
    "version": 3
   },
   "file_extension": ".py",
   "mimetype": "text/x-python",
   "name": "python",
   "nbconvert_exporter": "python",
   "pygments_lexer": "ipython3",
   "version": "3.9.13"
  }
 },
 "nbformat": 4,
 "nbformat_minor": 5
}
